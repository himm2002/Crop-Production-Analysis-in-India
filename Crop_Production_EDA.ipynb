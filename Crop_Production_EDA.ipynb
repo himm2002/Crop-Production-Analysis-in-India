{
 "cells": [
  {
   "cell_type": "code",
   "execution_count": 175,
   "id": "ecf9473a-c172-46e5-b81b-01388c7f88ac",
   "metadata": {},
   "outputs": [],
   "source": [
    "import pandas as pd\n",
    "from pandas import DataFrame,Series\n",
    "import numpy as np"
   ]
  },
  {
   "cell_type": "code",
   "execution_count": 177,
   "id": "90d10105-b7b3-4427-aef1-50942d829706",
   "metadata": {},
   "outputs": [],
   "source": [
    "import os \n",
    "import warnings\n",
    "warnings.filterwarnings(\"ignore\")"
   ]
  },
  {
   "cell_type": "code",
   "execution_count": 179,
   "id": "a02fb6d1-2615-4b28-8f45-d36671580730",
   "metadata": {},
   "outputs": [],
   "source": [
    "import seaborn as sns\n",
    "import matplotlib.pyplot as plt"
   ]
  },
  {
   "cell_type": "markdown",
   "id": "1a2ab371-0c09-48f0-8b3e-43484040c76e",
   "metadata": {},
   "source": [
    "# Importing Database"
   ]
  },
  {
   "cell_type": "code",
   "execution_count": 5,
   "id": "f3c8e1a6-3434-448a-b2bb-7f9c14e14fb0",
   "metadata": {},
   "outputs": [],
   "source": [
    "os.chdir(\"C://Users//Administrator//OneDrive//Desktop//Crop Production Predictive\")"
   ]
  },
  {
   "cell_type": "code",
   "execution_count": 6,
   "id": "0d1c3c51-b2a8-47f7-86df-6cc03c3d073d",
   "metadata": {},
   "outputs": [],
   "source": [
    "crop_data = pd.read_csv(\"Crop Production data.csv\")"
   ]
  },
  {
   "cell_type": "code",
   "execution_count": 7,
   "id": "6900eef7-8d62-4da4-b3b4-dd040dbf755a",
   "metadata": {},
   "outputs": [
    {
     "data": {
      "text/html": [
       "<div>\n",
       "<style scoped>\n",
       "    .dataframe tbody tr th:only-of-type {\n",
       "        vertical-align: middle;\n",
       "    }\n",
       "\n",
       "    .dataframe tbody tr th {\n",
       "        vertical-align: top;\n",
       "    }\n",
       "\n",
       "    .dataframe thead th {\n",
       "        text-align: right;\n",
       "    }\n",
       "</style>\n",
       "<table border=\"1\" class=\"dataframe\">\n",
       "  <thead>\n",
       "    <tr style=\"text-align: right;\">\n",
       "      <th></th>\n",
       "      <th>State_Name</th>\n",
       "      <th>District_Name</th>\n",
       "      <th>Crop_Year</th>\n",
       "      <th>Season</th>\n",
       "      <th>Crop</th>\n",
       "      <th>Area</th>\n",
       "      <th>Production</th>\n",
       "    </tr>\n",
       "  </thead>\n",
       "  <tbody>\n",
       "    <tr>\n",
       "      <th>0</th>\n",
       "      <td>Andaman and Nicobar Islands</td>\n",
       "      <td>NICOBARS</td>\n",
       "      <td>2000</td>\n",
       "      <td>Kharif</td>\n",
       "      <td>Arecanut</td>\n",
       "      <td>1254.0</td>\n",
       "      <td>2000.0</td>\n",
       "    </tr>\n",
       "    <tr>\n",
       "      <th>1</th>\n",
       "      <td>Andaman and Nicobar Islands</td>\n",
       "      <td>NICOBARS</td>\n",
       "      <td>2000</td>\n",
       "      <td>Kharif</td>\n",
       "      <td>Other Kharif pulses</td>\n",
       "      <td>2.0</td>\n",
       "      <td>1.0</td>\n",
       "    </tr>\n",
       "    <tr>\n",
       "      <th>2</th>\n",
       "      <td>Andaman and Nicobar Islands</td>\n",
       "      <td>NICOBARS</td>\n",
       "      <td>2000</td>\n",
       "      <td>Kharif</td>\n",
       "      <td>Rice</td>\n",
       "      <td>102.0</td>\n",
       "      <td>321.0</td>\n",
       "    </tr>\n",
       "    <tr>\n",
       "      <th>3</th>\n",
       "      <td>Andaman and Nicobar Islands</td>\n",
       "      <td>NICOBARS</td>\n",
       "      <td>2000</td>\n",
       "      <td>Whole Year</td>\n",
       "      <td>Banana</td>\n",
       "      <td>176.0</td>\n",
       "      <td>641.0</td>\n",
       "    </tr>\n",
       "    <tr>\n",
       "      <th>4</th>\n",
       "      <td>Andaman and Nicobar Islands</td>\n",
       "      <td>NICOBARS</td>\n",
       "      <td>2000</td>\n",
       "      <td>Whole Year</td>\n",
       "      <td>Cashewnut</td>\n",
       "      <td>720.0</td>\n",
       "      <td>165.0</td>\n",
       "    </tr>\n",
       "  </tbody>\n",
       "</table>\n",
       "</div>"
      ],
      "text/plain": [
       "                    State_Name District_Name  Crop_Year       Season  \\\n",
       "0  Andaman and Nicobar Islands      NICOBARS       2000  Kharif        \n",
       "1  Andaman and Nicobar Islands      NICOBARS       2000  Kharif        \n",
       "2  Andaman and Nicobar Islands      NICOBARS       2000  Kharif        \n",
       "3  Andaman and Nicobar Islands      NICOBARS       2000  Whole Year    \n",
       "4  Andaman and Nicobar Islands      NICOBARS       2000  Whole Year    \n",
       "\n",
       "                  Crop    Area  Production  \n",
       "0             Arecanut  1254.0      2000.0  \n",
       "1  Other Kharif pulses     2.0         1.0  \n",
       "2                 Rice   102.0       321.0  \n",
       "3               Banana   176.0       641.0  \n",
       "4            Cashewnut   720.0       165.0  "
      ]
     },
     "execution_count": 7,
     "metadata": {},
     "output_type": "execute_result"
    }
   ],
   "source": [
    "crop_data.head()"
   ]
  },
  {
   "cell_type": "code",
   "execution_count": 8,
   "id": "3e84a69f-52f5-4798-8b52-0e40201e334f",
   "metadata": {},
   "outputs": [
    {
     "data": {
      "text/html": [
       "<div>\n",
       "<style scoped>\n",
       "    .dataframe tbody tr th:only-of-type {\n",
       "        vertical-align: middle;\n",
       "    }\n",
       "\n",
       "    .dataframe tbody tr th {\n",
       "        vertical-align: top;\n",
       "    }\n",
       "\n",
       "    .dataframe thead th {\n",
       "        text-align: right;\n",
       "    }\n",
       "</style>\n",
       "<table border=\"1\" class=\"dataframe\">\n",
       "  <thead>\n",
       "    <tr style=\"text-align: right;\">\n",
       "      <th></th>\n",
       "      <th>State_Name</th>\n",
       "      <th>District_Name</th>\n",
       "      <th>Crop_Year</th>\n",
       "      <th>Season</th>\n",
       "      <th>Crop</th>\n",
       "      <th>Area</th>\n",
       "      <th>Production</th>\n",
       "    </tr>\n",
       "  </thead>\n",
       "  <tbody>\n",
       "    <tr>\n",
       "      <th>246086</th>\n",
       "      <td>West Bengal</td>\n",
       "      <td>PURULIA</td>\n",
       "      <td>2014</td>\n",
       "      <td>Summer</td>\n",
       "      <td>Rice</td>\n",
       "      <td>306.0</td>\n",
       "      <td>801.0</td>\n",
       "    </tr>\n",
       "    <tr>\n",
       "      <th>246087</th>\n",
       "      <td>West Bengal</td>\n",
       "      <td>PURULIA</td>\n",
       "      <td>2014</td>\n",
       "      <td>Summer</td>\n",
       "      <td>Sesamum</td>\n",
       "      <td>627.0</td>\n",
       "      <td>463.0</td>\n",
       "    </tr>\n",
       "    <tr>\n",
       "      <th>246088</th>\n",
       "      <td>West Bengal</td>\n",
       "      <td>PURULIA</td>\n",
       "      <td>2014</td>\n",
       "      <td>Whole Year</td>\n",
       "      <td>Sugarcane</td>\n",
       "      <td>324.0</td>\n",
       "      <td>16250.0</td>\n",
       "    </tr>\n",
       "    <tr>\n",
       "      <th>246089</th>\n",
       "      <td>West Bengal</td>\n",
       "      <td>PURULIA</td>\n",
       "      <td>2014</td>\n",
       "      <td>Winter</td>\n",
       "      <td>Rice</td>\n",
       "      <td>279151.0</td>\n",
       "      <td>597899.0</td>\n",
       "    </tr>\n",
       "    <tr>\n",
       "      <th>246090</th>\n",
       "      <td>West Bengal</td>\n",
       "      <td>PURULIA</td>\n",
       "      <td>2014</td>\n",
       "      <td>Winter</td>\n",
       "      <td>Sesamum</td>\n",
       "      <td>175.0</td>\n",
       "      <td>88.0</td>\n",
       "    </tr>\n",
       "  </tbody>\n",
       "</table>\n",
       "</div>"
      ],
      "text/plain": [
       "         State_Name District_Name  Crop_Year       Season       Crop  \\\n",
       "246086  West Bengal       PURULIA       2014  Summer            Rice   \n",
       "246087  West Bengal       PURULIA       2014  Summer         Sesamum   \n",
       "246088  West Bengal       PURULIA       2014  Whole Year   Sugarcane   \n",
       "246089  West Bengal       PURULIA       2014  Winter            Rice   \n",
       "246090  West Bengal       PURULIA       2014  Winter         Sesamum   \n",
       "\n",
       "            Area  Production  \n",
       "246086     306.0       801.0  \n",
       "246087     627.0       463.0  \n",
       "246088     324.0     16250.0  \n",
       "246089  279151.0    597899.0  \n",
       "246090     175.0        88.0  "
      ]
     },
     "execution_count": 8,
     "metadata": {},
     "output_type": "execute_result"
    }
   ],
   "source": [
    "crop_data.tail()"
   ]
  },
  {
   "cell_type": "markdown",
   "id": "03e5cfa5-6105-4834-b010-48528de88882",
   "metadata": {},
   "source": [
    "# Data Profile"
   ]
  },
  {
   "cell_type": "code",
   "execution_count": 10,
   "id": "e58ed3e3-92a8-4e0d-bf82-816ee4ab3e46",
   "metadata": {},
   "outputs": [
    {
     "data": {
      "text/plain": [
       "(246091, 7)"
      ]
     },
     "execution_count": 10,
     "metadata": {},
     "output_type": "execute_result"
    }
   ],
   "source": [
    "crop_data.shape"
   ]
  },
  {
   "cell_type": "code",
   "execution_count": 11,
   "id": "fe886e0e-7b2e-447c-9b73-38acfb857cf4",
   "metadata": {},
   "outputs": [
    {
     "data": {
      "text/html": [
       "<div>\n",
       "<style scoped>\n",
       "    .dataframe tbody tr th:only-of-type {\n",
       "        vertical-align: middle;\n",
       "    }\n",
       "\n",
       "    .dataframe tbody tr th {\n",
       "        vertical-align: top;\n",
       "    }\n",
       "\n",
       "    .dataframe thead th {\n",
       "        text-align: right;\n",
       "    }\n",
       "</style>\n",
       "<table border=\"1\" class=\"dataframe\">\n",
       "  <thead>\n",
       "    <tr style=\"text-align: right;\">\n",
       "      <th></th>\n",
       "      <th>State_Name</th>\n",
       "      <th>District_Name</th>\n",
       "      <th>Crop_Year</th>\n",
       "      <th>Season</th>\n",
       "      <th>Crop</th>\n",
       "      <th>Area</th>\n",
       "      <th>Production</th>\n",
       "    </tr>\n",
       "  </thead>\n",
       "  <tbody>\n",
       "    <tr>\n",
       "      <th>count</th>\n",
       "      <td>246091</td>\n",
       "      <td>246091</td>\n",
       "      <td>246091.000000</td>\n",
       "      <td>246091</td>\n",
       "      <td>246091</td>\n",
       "      <td>2.460910e+05</td>\n",
       "      <td>2.423610e+05</td>\n",
       "    </tr>\n",
       "    <tr>\n",
       "      <th>unique</th>\n",
       "      <td>33</td>\n",
       "      <td>646</td>\n",
       "      <td>NaN</td>\n",
       "      <td>6</td>\n",
       "      <td>124</td>\n",
       "      <td>NaN</td>\n",
       "      <td>NaN</td>\n",
       "    </tr>\n",
       "    <tr>\n",
       "      <th>top</th>\n",
       "      <td>Uttar Pradesh</td>\n",
       "      <td>BIJAPUR</td>\n",
       "      <td>NaN</td>\n",
       "      <td>Kharif</td>\n",
       "      <td>Rice</td>\n",
       "      <td>NaN</td>\n",
       "      <td>NaN</td>\n",
       "    </tr>\n",
       "    <tr>\n",
       "      <th>freq</th>\n",
       "      <td>33306</td>\n",
       "      <td>945</td>\n",
       "      <td>NaN</td>\n",
       "      <td>95951</td>\n",
       "      <td>15104</td>\n",
       "      <td>NaN</td>\n",
       "      <td>NaN</td>\n",
       "    </tr>\n",
       "    <tr>\n",
       "      <th>mean</th>\n",
       "      <td>NaN</td>\n",
       "      <td>NaN</td>\n",
       "      <td>2005.643018</td>\n",
       "      <td>NaN</td>\n",
       "      <td>NaN</td>\n",
       "      <td>1.200282e+04</td>\n",
       "      <td>5.825034e+05</td>\n",
       "    </tr>\n",
       "    <tr>\n",
       "      <th>std</th>\n",
       "      <td>NaN</td>\n",
       "      <td>NaN</td>\n",
       "      <td>4.952164</td>\n",
       "      <td>NaN</td>\n",
       "      <td>NaN</td>\n",
       "      <td>5.052340e+04</td>\n",
       "      <td>1.706581e+07</td>\n",
       "    </tr>\n",
       "    <tr>\n",
       "      <th>min</th>\n",
       "      <td>NaN</td>\n",
       "      <td>NaN</td>\n",
       "      <td>1997.000000</td>\n",
       "      <td>NaN</td>\n",
       "      <td>NaN</td>\n",
       "      <td>4.000000e-02</td>\n",
       "      <td>0.000000e+00</td>\n",
       "    </tr>\n",
       "    <tr>\n",
       "      <th>25%</th>\n",
       "      <td>NaN</td>\n",
       "      <td>NaN</td>\n",
       "      <td>2002.000000</td>\n",
       "      <td>NaN</td>\n",
       "      <td>NaN</td>\n",
       "      <td>8.000000e+01</td>\n",
       "      <td>8.800000e+01</td>\n",
       "    </tr>\n",
       "    <tr>\n",
       "      <th>50%</th>\n",
       "      <td>NaN</td>\n",
       "      <td>NaN</td>\n",
       "      <td>2006.000000</td>\n",
       "      <td>NaN</td>\n",
       "      <td>NaN</td>\n",
       "      <td>5.820000e+02</td>\n",
       "      <td>7.290000e+02</td>\n",
       "    </tr>\n",
       "    <tr>\n",
       "      <th>75%</th>\n",
       "      <td>NaN</td>\n",
       "      <td>NaN</td>\n",
       "      <td>2010.000000</td>\n",
       "      <td>NaN</td>\n",
       "      <td>NaN</td>\n",
       "      <td>4.392000e+03</td>\n",
       "      <td>7.023000e+03</td>\n",
       "    </tr>\n",
       "    <tr>\n",
       "      <th>max</th>\n",
       "      <td>NaN</td>\n",
       "      <td>NaN</td>\n",
       "      <td>2015.000000</td>\n",
       "      <td>NaN</td>\n",
       "      <td>NaN</td>\n",
       "      <td>8.580100e+06</td>\n",
       "      <td>1.250800e+09</td>\n",
       "    </tr>\n",
       "  </tbody>\n",
       "</table>\n",
       "</div>"
      ],
      "text/plain": [
       "           State_Name District_Name      Crop_Year       Season    Crop  \\\n",
       "count          246091        246091  246091.000000       246091  246091   \n",
       "unique             33           646            NaN            6     124   \n",
       "top     Uttar Pradesh       BIJAPUR            NaN  Kharif         Rice   \n",
       "freq            33306           945            NaN        95951   15104   \n",
       "mean              NaN           NaN    2005.643018          NaN     NaN   \n",
       "std               NaN           NaN       4.952164          NaN     NaN   \n",
       "min               NaN           NaN    1997.000000          NaN     NaN   \n",
       "25%               NaN           NaN    2002.000000          NaN     NaN   \n",
       "50%               NaN           NaN    2006.000000          NaN     NaN   \n",
       "75%               NaN           NaN    2010.000000          NaN     NaN   \n",
       "max               NaN           NaN    2015.000000          NaN     NaN   \n",
       "\n",
       "                Area    Production  \n",
       "count   2.460910e+05  2.423610e+05  \n",
       "unique           NaN           NaN  \n",
       "top              NaN           NaN  \n",
       "freq             NaN           NaN  \n",
       "mean    1.200282e+04  5.825034e+05  \n",
       "std     5.052340e+04  1.706581e+07  \n",
       "min     4.000000e-02  0.000000e+00  \n",
       "25%     8.000000e+01  8.800000e+01  \n",
       "50%     5.820000e+02  7.290000e+02  \n",
       "75%     4.392000e+03  7.023000e+03  \n",
       "max     8.580100e+06  1.250800e+09  "
      ]
     },
     "execution_count": 11,
     "metadata": {},
     "output_type": "execute_result"
    }
   ],
   "source": [
    "crop_data.describe(include=\"all\")"
   ]
  },
  {
   "cell_type": "markdown",
   "id": "c0e30b9c-f75f-4503-bf9f-b992be3e042f",
   "metadata": {},
   "source": [
    "# Data Transformation"
   ]
  },
  {
   "cell_type": "code",
   "execution_count": 13,
   "id": "c7155ea4-30be-457b-abb6-c1895440fe35",
   "metadata": {},
   "outputs": [
    {
     "data": {
      "text/plain": [
       "State_Name          0\n",
       "District_Name       0\n",
       "Crop_Year           0\n",
       "Season              0\n",
       "Crop                0\n",
       "Area                0\n",
       "Production       3730\n",
       "dtype: int64"
      ]
     },
     "execution_count": 13,
     "metadata": {},
     "output_type": "execute_result"
    }
   ],
   "source": [
    "crop_data.isnull().sum()"
   ]
  },
  {
   "cell_type": "code",
   "execution_count": 14,
   "id": "b50a8b31-1e93-4ab8-82da-7e73472f74cf",
   "metadata": {},
   "outputs": [],
   "source": [
    "#Production column having 3700 rows null values so we have to take this column we are going to replace it with the mean of production"
   ]
  },
  {
   "cell_type": "code",
   "execution_count": 15,
   "id": "8ee98e24-5360-4154-9b0e-758eac90c784",
   "metadata": {},
   "outputs": [],
   "source": [
    "grouped_data = crop_data[\"Production\"]\n",
    "mean_value = grouped_data.mean()"
   ]
  },
  {
   "cell_type": "code",
   "execution_count": 16,
   "id": "7a6537fe-54cd-4f4e-9fce-c91c926d9701",
   "metadata": {},
   "outputs": [],
   "source": [
    "crop_data[\"Production\"].fillna(value= mean_value,inplace=True)"
   ]
  },
  {
   "cell_type": "code",
   "execution_count": 17,
   "id": "26163e0b-0924-4545-932f-d30220811bc4",
   "metadata": {},
   "outputs": [
    {
     "data": {
      "text/plain": [
       "State_Name       0\n",
       "District_Name    0\n",
       "Crop_Year        0\n",
       "Season           0\n",
       "Crop             0\n",
       "Area             0\n",
       "Production       0\n",
       "dtype: int64"
      ]
     },
     "execution_count": 17,
     "metadata": {},
     "output_type": "execute_result"
    }
   ],
   "source": [
    "crop_data.isnull().sum()"
   ]
  },
  {
   "cell_type": "code",
   "execution_count": 18,
   "id": "df884edb-f775-4b1a-9671-8b88b7e4c2df",
   "metadata": {},
   "outputs": [
    {
     "name": "stdout",
     "output_type": "stream",
     "text": [
      "Output\n",
      "State_Name        object\n",
      "District_Name     object\n",
      "Crop_Year          int64\n",
      "Season            object\n",
      "Crop              object\n",
      "Area             float64\n",
      "Production       float64\n",
      "dtype: object\n"
     ]
    }
   ],
   "source": [
    "result = crop_data.dtypes\n",
    "print(\"Output\")\n",
    "print(result)"
   ]
  },
  {
   "cell_type": "code",
   "execution_count": 19,
   "id": "4ae07baa-940c-4e6e-8cc4-6a4962eee220",
   "metadata": {},
   "outputs": [],
   "source": [
    "crop_data[\"Area\"]= crop_data[\"Area\"].apply(lambda x: '%.0f' % x)"
   ]
  },
  {
   "cell_type": "code",
   "execution_count": 20,
   "id": "e380eb72-0841-422a-9f1c-85aec12f6603",
   "metadata": {},
   "outputs": [
    {
     "data": {
      "text/plain": [
       "array(['1254', '2', '102', ..., '302274', '11493', '279151'], dtype=object)"
      ]
     },
     "execution_count": 20,
     "metadata": {},
     "output_type": "execute_result"
    }
   ],
   "source": [
    "crop_data[\"Area\"].unique()"
   ]
  },
  {
   "cell_type": "code",
   "execution_count": 21,
   "id": "8db69a44-44d3-40da-852f-bb01ee0bb677",
   "metadata": {},
   "outputs": [],
   "source": [
    "#converting the data type "
   ]
  },
  {
   "cell_type": "code",
   "execution_count": 22,
   "id": "94dab58e-02f6-451a-9252-49be0f8e28cb",
   "metadata": {},
   "outputs": [],
   "source": [
    "crop_data[\"Production\"] =  crop_data[\"Production\"].apply(lambda x: '%.0f' % x)"
   ]
  },
  {
   "cell_type": "code",
   "execution_count": 23,
   "id": "ad803063-9e76-4b6c-9d90-e9f781e04f70",
   "metadata": {},
   "outputs": [],
   "source": [
    "crop_data = crop_data.astype({\"Area\":int,\"Production\":int})"
   ]
  },
  {
   "cell_type": "code",
   "execution_count": 24,
   "id": "dd11146a-cf1e-4415-b30d-a798fee017aa",
   "metadata": {},
   "outputs": [
    {
     "name": "stdout",
     "output_type": "stream",
     "text": [
      "Output\n",
      "State_Name       object\n",
      "District_Name    object\n",
      "Crop_Year         int64\n",
      "Season           object\n",
      "Crop             object\n",
      "Area              int32\n",
      "Production        int32\n",
      "dtype: object\n"
     ]
    }
   ],
   "source": [
    "result = crop_data.dtypes\n",
    "print(\"Output\")\n",
    "print(result)"
   ]
  },
  {
   "cell_type": "code",
   "execution_count": 25,
   "id": "c7e27ec7-c052-4b80-99a3-5f91eb1c620f",
   "metadata": {},
   "outputs": [
    {
     "data": {
      "text/plain": [
       "array(['Arecanut', 'Other Kharif pulses', 'Rice', 'Banana', 'Cashewnut',\n",
       "       'Coconut ', 'Dry ginger', 'Sugarcane', 'Sweet potato', 'Tapioca',\n",
       "       'Black pepper', 'Dry chillies', 'other oilseeds', 'Turmeric',\n",
       "       'Maize', 'Moong(Green Gram)', 'Urad', 'Arhar/Tur', 'Groundnut',\n",
       "       'Sunflower', 'Bajra', 'Castor seed', 'Cotton(lint)', 'Horse-gram',\n",
       "       'Jowar', 'Korra', 'Ragi', 'Tobacco', 'Gram', 'Wheat', 'Masoor',\n",
       "       'Sesamum', 'Linseed', 'Safflower', 'Onion', 'other misc. pulses',\n",
       "       'Samai', 'Small millets', 'Coriander', 'Potato',\n",
       "       'Other  Rabi pulses', 'Soyabean', 'Beans & Mutter(Vegetable)',\n",
       "       'Bhindi', 'Brinjal', 'Citrus Fruit', 'Cucumber', 'Grapes', 'Mango',\n",
       "       'Orange', 'other fibres', 'Other Fresh Fruits', 'Other Vegetables',\n",
       "       'Papaya', 'Pome Fruit', 'Tomato', 'Rapeseed &Mustard', 'Mesta',\n",
       "       'Cowpea(Lobia)', 'Lemon', 'Pome Granet', 'Sapota', 'Cabbage',\n",
       "       'Peas  (vegetable)', 'Niger seed', 'Bottle Gourd', 'Sannhamp',\n",
       "       'Varagu', 'Garlic', 'Ginger', 'Oilseeds total', 'Pulses total',\n",
       "       'Jute', 'Peas & beans (Pulses)', 'Blackgram', 'Paddy', 'Pineapple',\n",
       "       'Barley', 'Khesari', 'Guar seed', 'Moth',\n",
       "       'Other Cereals & Millets', 'Cond-spcs other', 'Turnip', 'Carrot',\n",
       "       'Redish', 'Arcanut (Processed)', 'Atcanut (Raw)',\n",
       "       'Cashewnut Processed', 'Cashewnut Raw', 'Cardamom', 'Rubber',\n",
       "       'Bitter Gourd', 'Drum Stick', 'Jack Fruit', 'Snak Guard',\n",
       "       'Pump Kin', 'Tea', 'Coffee', 'Cauliflower', 'Other Citrus Fruit',\n",
       "       'Water Melon', 'Total foodgrain', 'Kapas', 'Colocosia', 'Lentil',\n",
       "       'Bean', 'Jobster', 'Perilla', 'Rajmash Kholar',\n",
       "       'Ricebean (nagadal)', 'Ash Gourd', 'Beet Root', 'Lab-Lab',\n",
       "       'Ribed Guard', 'Yam', 'Apple', 'Peach', 'Pear', 'Plums', 'Litchi',\n",
       "       'Ber', 'Other Dry Fruit', 'Jute & mesta'], dtype=object)"
      ]
     },
     "execution_count": 25,
     "metadata": {},
     "output_type": "execute_result"
    }
   ],
   "source": [
    "crop_data[\"Crop\"].unique()"
   ]
  },
  {
   "cell_type": "markdown",
   "id": "3742f38c-a81e-4529-a778-71ff43a991a2",
   "metadata": {},
   "source": [
    "# Outliers detection "
   ]
  },
  {
   "cell_type": "code",
   "execution_count": 27,
   "id": "35ed7d47-98b2-452b-96f5-4bc146658b06",
   "metadata": {},
   "outputs": [
    {
     "data": {
      "text/plain": [
       "Index(['State_Name', 'District_Name', 'Crop_Year', 'Season', 'Crop', 'Area',\n",
       "       'Production'],\n",
       "      dtype='object')"
      ]
     },
     "execution_count": 27,
     "metadata": {},
     "output_type": "execute_result"
    }
   ],
   "source": [
    "crop_data.columns"
   ]
  },
  {
   "cell_type": "code",
   "execution_count": 28,
   "id": "7d19afe3-3c96-4620-b282-4053279af462",
   "metadata": {},
   "outputs": [
    {
     "data": {
      "text/plain": [
       "<Axes: ylabel='Area'>"
      ]
     },
     "execution_count": 28,
     "metadata": {},
     "output_type": "execute_result"
    },
    {
     "data": {
      "image/png": "[encoded data removed]",
      "text/plain": [
       "<Figure size 640x480 with 1 Axes>"
      ]
     },
     "metadata": {},
     "output_type": "display_data"
    }
   ],
   "source": [
    "sns.boxplot(data = crop_data, y= \"Area\")"
   ]
  },
  {
   "cell_type": "code",
   "execution_count": 29,
   "id": "0c2b21f6-5488-4e07-b7f0-ef1100cb9c01",
   "metadata": {},
   "outputs": [],
   "source": [
    "#There are some values present in our data set considered as outlier and we have to replace it with quantile method because taking it might cause\n",
    "#the predictive analysis values"
   ]
  },
  {
   "cell_type": "code",
   "execution_count": 30,
   "id": "cdc4379b-9330-4739-9cf2-6d7c1ba213d1",
   "metadata": {},
   "outputs": [
    {
     "data": {
      "text/plain": [
       "<Axes: xlabel='Production', ylabel='Area'>"
      ]
     },
     "execution_count": 30,
     "metadata": {},
     "output_type": "execute_result"
    },
    {
     "data": {
      "image/png": "[encoded data removed]",
      "text/plain": [
       "<Figure size 640x480 with 1 Axes>"
      ]
     },
     "metadata": {},
     "output_type": "display_data"
    }
   ],
   "source": [
    "sns.scatterplot(data = crop_data, x= \"Production\",y=\"Area\")"
   ]
  },
  {
   "cell_type": "markdown",
   "id": "6660f4a6-9e11-4e60-92a7-6d78ff7cb49c",
   "metadata": {},
   "source": [
    "# Inter Qunatile Range method"
   ]
  },
  {
   "cell_type": "code",
   "execution_count": 32,
   "id": "7c9bd048-b594-463d-88bd-b18d93fbfe8c",
   "metadata": {},
   "outputs": [],
   "source": [
    "q1 = crop_data[\"Area\"].quantile(0.25)\n",
    "q3 = crop_data[\"Production\"].quantile(0.75)"
   ]
  },
  {
   "cell_type": "code",
   "execution_count": 33,
   "id": "02fab09d-e3ba-4193-9cda-4e4d212dff45",
   "metadata": {},
   "outputs": [],
   "source": [
    "iqr = q3 - q1"
   ]
  },
  {
   "cell_type": "code",
   "execution_count": 34,
   "id": "f9522c67-f9b4-43d7-b07b-a77be65c5ffb",
   "metadata": {},
   "outputs": [],
   "source": [
    "upper_limit = q3 + (1.5*iqr)\n",
    "lower_limit = q1- (1.5*iqr)"
   ]
  },
  {
   "cell_type": "code",
   "execution_count": 35,
   "id": "7aa9ec9a-1539-49bc-a351-44355ef8967a",
   "metadata": {},
   "outputs": [],
   "source": [
    "#finding the outliers value for the variable area"
   ]
  },
  {
   "cell_type": "code",
   "execution_count": 36,
   "id": "385ca46d-4dff-4037-9830-6f5b2a2e01f3",
   "metadata": {},
   "outputs": [
    {
     "data": {
      "text/html": [
       "<div>\n",
       "<style scoped>\n",
       "    .dataframe tbody tr th:only-of-type {\n",
       "        vertical-align: middle;\n",
       "    }\n",
       "\n",
       "    .dataframe tbody tr th {\n",
       "        vertical-align: top;\n",
       "    }\n",
       "\n",
       "    .dataframe thead th {\n",
       "        text-align: right;\n",
       "    }\n",
       "</style>\n",
       "<table border=\"1\" class=\"dataframe\">\n",
       "  <thead>\n",
       "    <tr style=\"text-align: right;\">\n",
       "      <th></th>\n",
       "      <th>State_Name</th>\n",
       "      <th>District_Name</th>\n",
       "      <th>Crop_Year</th>\n",
       "      <th>Season</th>\n",
       "      <th>Crop</th>\n",
       "      <th>Area</th>\n",
       "      <th>Production</th>\n",
       "    </tr>\n",
       "  </thead>\n",
       "  <tbody>\n",
       "    <tr>\n",
       "      <th>203</th>\n",
       "      <td>Andhra Pradesh</td>\n",
       "      <td>ANANTAPUR</td>\n",
       "      <td>1997</td>\n",
       "      <td>Kharif</td>\n",
       "      <td>Arhar/Tur</td>\n",
       "      <td>21400</td>\n",
       "      <td>2600</td>\n",
       "    </tr>\n",
       "    <tr>\n",
       "      <th>208</th>\n",
       "      <td>Andhra Pradesh</td>\n",
       "      <td>ANANTAPUR</td>\n",
       "      <td>1997</td>\n",
       "      <td>Kharif</td>\n",
       "      <td>Groundnut</td>\n",
       "      <td>650800</td>\n",
       "      <td>228400</td>\n",
       "    </tr>\n",
       "    <tr>\n",
       "      <th>216</th>\n",
       "      <td>Andhra Pradesh</td>\n",
       "      <td>ANANTAPUR</td>\n",
       "      <td>1997</td>\n",
       "      <td>Kharif</td>\n",
       "      <td>Rice</td>\n",
       "      <td>35600</td>\n",
       "      <td>75400</td>\n",
       "    </tr>\n",
       "    <tr>\n",
       "      <th>218</th>\n",
       "      <td>Andhra Pradesh</td>\n",
       "      <td>ANANTAPUR</td>\n",
       "      <td>1997</td>\n",
       "      <td>Kharif</td>\n",
       "      <td>Sunflower</td>\n",
       "      <td>35900</td>\n",
       "      <td>11100</td>\n",
       "    </tr>\n",
       "    <tr>\n",
       "      <th>221</th>\n",
       "      <td>Andhra Pradesh</td>\n",
       "      <td>ANANTAPUR</td>\n",
       "      <td>1997</td>\n",
       "      <td>Rabi</td>\n",
       "      <td>Gram</td>\n",
       "      <td>28000</td>\n",
       "      <td>14800</td>\n",
       "    </tr>\n",
       "    <tr>\n",
       "      <th>...</th>\n",
       "      <td>...</td>\n",
       "      <td>...</td>\n",
       "      <td>...</td>\n",
       "      <td>...</td>\n",
       "      <td>...</td>\n",
       "      <td>...</td>\n",
       "      <td>...</td>\n",
       "    </tr>\n",
       "    <tr>\n",
       "      <th>245954</th>\n",
       "      <td>West Bengal</td>\n",
       "      <td>PURULIA</td>\n",
       "      <td>2010</td>\n",
       "      <td>Winter</td>\n",
       "      <td>Rice</td>\n",
       "      <td>152676</td>\n",
       "      <td>261435</td>\n",
       "    </tr>\n",
       "    <tr>\n",
       "      <th>245985</th>\n",
       "      <td>West Bengal</td>\n",
       "      <td>PURULIA</td>\n",
       "      <td>2011</td>\n",
       "      <td>Winter</td>\n",
       "      <td>Rice</td>\n",
       "      <td>270270</td>\n",
       "      <td>731799</td>\n",
       "    </tr>\n",
       "    <tr>\n",
       "      <th>246017</th>\n",
       "      <td>West Bengal</td>\n",
       "      <td>PURULIA</td>\n",
       "      <td>2012</td>\n",
       "      <td>Winter</td>\n",
       "      <td>Rice</td>\n",
       "      <td>288735</td>\n",
       "      <td>729553</td>\n",
       "    </tr>\n",
       "    <tr>\n",
       "      <th>246052</th>\n",
       "      <td>West Bengal</td>\n",
       "      <td>PURULIA</td>\n",
       "      <td>2013</td>\n",
       "      <td>Winter</td>\n",
       "      <td>Rice</td>\n",
       "      <td>302274</td>\n",
       "      <td>730136</td>\n",
       "    </tr>\n",
       "    <tr>\n",
       "      <th>246089</th>\n",
       "      <td>West Bengal</td>\n",
       "      <td>PURULIA</td>\n",
       "      <td>2014</td>\n",
       "      <td>Winter</td>\n",
       "      <td>Rice</td>\n",
       "      <td>279151</td>\n",
       "      <td>597899</td>\n",
       "    </tr>\n",
       "  </tbody>\n",
       "</table>\n",
       "<p>29442 rows × 7 columns</p>\n",
       "</div>"
      ],
      "text/plain": [
       "            State_Name District_Name  Crop_Year       Season       Crop  \\\n",
       "203     Andhra Pradesh     ANANTAPUR       1997  Kharif       Arhar/Tur   \n",
       "208     Andhra Pradesh     ANANTAPUR       1997  Kharif       Groundnut   \n",
       "216     Andhra Pradesh     ANANTAPUR       1997  Kharif            Rice   \n",
       "218     Andhra Pradesh     ANANTAPUR       1997  Kharif       Sunflower   \n",
       "221     Andhra Pradesh     ANANTAPUR       1997  Rabi              Gram   \n",
       "...                ...           ...        ...          ...        ...   \n",
       "245954     West Bengal       PURULIA       2010  Winter            Rice   \n",
       "245985     West Bengal       PURULIA       2011  Winter            Rice   \n",
       "246017     West Bengal       PURULIA       2012  Winter            Rice   \n",
       "246052     West Bengal       PURULIA       2013  Winter            Rice   \n",
       "246089     West Bengal       PURULIA       2014  Winter            Rice   \n",
       "\n",
       "          Area  Production  \n",
       "203      21400        2600  \n",
       "208     650800      228400  \n",
       "216      35600       75400  \n",
       "218      35900       11100  \n",
       "221      28000       14800  \n",
       "...        ...         ...  \n",
       "245954  152676      261435  \n",
       "245985  270270      731799  \n",
       "246017  288735      729553  \n",
       "246052  302274      730136  \n",
       "246089  279151      597899  \n",
       "\n",
       "[29442 rows x 7 columns]"
      ]
     },
     "execution_count": 36,
     "metadata": {},
     "output_type": "execute_result"
    }
   ],
   "source": [
    "crop_data[(crop_data[\"Area\"] > upper_limit )]"
   ]
  },
  {
   "cell_type": "code",
   "execution_count": 37,
   "id": "37e7ba36-81e6-4ec3-bd55-386e0f28dcd3",
   "metadata": {},
   "outputs": [
    {
     "name": "stdout",
     "output_type": "stream",
     "text": [
      "Lower limit : -11800.0\n",
      "Upper limit : 19880.0\n"
     ]
    }
   ],
   "source": [
    "print(\"Lower limit : {}\".format(lower_limit))\n",
    "print(\"Upper limit : {}\".format(upper_limit))"
   ]
  },
  {
   "cell_type": "markdown",
   "id": "146fb59f-92df-4223-aa3c-59b1c5fe1eef",
   "metadata": {},
   "source": [
    "So we cannot replace the outliers because around 29000 number of rows are in it and our upper and lower limits are also not that effecient as well as the area should cannot be replace because it is sepcific for the particular location ... we can \n",
    "go as with this data"
   ]
  },
  {
   "cell_type": "code",
   "execution_count": 39,
   "id": "6cc98305-3e0b-49e2-8e03-c0428c2e3b0a",
   "metadata": {},
   "outputs": [
    {
     "data": {
      "text/plain": [
       "<Axes: xlabel='Area', ylabel='Production'>"
      ]
     },
     "execution_count": 39,
     "metadata": {},
     "output_type": "execute_result"
    },
    {
     "data": {
      "image/png": "[encoded data removed]",
      "text/plain": [
       "<Figure size 640x480 with 1 Axes>"
      ]
     },
     "metadata": {},
     "output_type": "display_data"
    }
   ],
   "source": [
    "sns.regplot(data = crop_data,x = \"Area\",y=\"Production\")"
   ]
  },
  {
   "cell_type": "markdown",
   "id": "4dd67545-2aa4-41bc-8e7a-4b5ef7b4906a",
   "metadata": {},
   "source": [
    "As we can see area is not the variable affecting the the crop production .. Yes increasing area can increase the production but as per the above plot\n",
    "there are high production as well when the area is not too high"
   ]
  },
  {
   "cell_type": "markdown",
   "id": "c2221bbc-0679-40ff-ae47-126da6481fe6",
   "metadata": {},
   "source": [
    "# Exploratory Data Analysis"
   ]
  },
  {
   "cell_type": "markdown",
   "id": "d28f0871-4b85-4061-ac53-afcf9f409fb7",
   "metadata": {},
   "source": [
    "Generating of new column Production Per Area that will gives us the clear picture that as per the area production is high or low"
   ]
  },
  {
   "cell_type": "code",
   "execution_count": 43,
   "id": "af6725b4-3680-4ad9-a1d7-506c4e39a169",
   "metadata": {},
   "outputs": [],
   "source": [
    "crop_data[\"Production/Area\"] = crop_data[\"Production\"]/crop_data[\"Area\"]"
   ]
  },
  {
   "cell_type": "code",
   "execution_count": 44,
   "id": "3b3a6c16-603d-4d3b-b7a7-12d5cd2c3ca5",
   "metadata": {},
   "outputs": [
    {
     "data": {
      "text/html": [
       "<div>\n",
       "<style scoped>\n",
       "    .dataframe tbody tr th:only-of-type {\n",
       "        vertical-align: middle;\n",
       "    }\n",
       "\n",
       "    .dataframe tbody tr th {\n",
       "        vertical-align: top;\n",
       "    }\n",
       "\n",
       "    .dataframe thead th {\n",
       "        text-align: right;\n",
       "    }\n",
       "</style>\n",
       "<table border=\"1\" class=\"dataframe\">\n",
       "  <thead>\n",
       "    <tr style=\"text-align: right;\">\n",
       "      <th></th>\n",
       "      <th>State_Name</th>\n",
       "      <th>District_Name</th>\n",
       "      <th>Crop_Year</th>\n",
       "      <th>Season</th>\n",
       "      <th>Crop</th>\n",
       "      <th>Area</th>\n",
       "      <th>Production</th>\n",
       "      <th>Production/Area</th>\n",
       "    </tr>\n",
       "  </thead>\n",
       "  <tbody>\n",
       "    <tr>\n",
       "      <th>0</th>\n",
       "      <td>Andaman and Nicobar Islands</td>\n",
       "      <td>NICOBARS</td>\n",
       "      <td>2000</td>\n",
       "      <td>Kharif</td>\n",
       "      <td>Arecanut</td>\n",
       "      <td>1254</td>\n",
       "      <td>2000</td>\n",
       "      <td>1.594896</td>\n",
       "    </tr>\n",
       "    <tr>\n",
       "      <th>1</th>\n",
       "      <td>Andaman and Nicobar Islands</td>\n",
       "      <td>NICOBARS</td>\n",
       "      <td>2000</td>\n",
       "      <td>Kharif</td>\n",
       "      <td>Other Kharif pulses</td>\n",
       "      <td>2</td>\n",
       "      <td>1</td>\n",
       "      <td>0.500000</td>\n",
       "    </tr>\n",
       "    <tr>\n",
       "      <th>2</th>\n",
       "      <td>Andaman and Nicobar Islands</td>\n",
       "      <td>NICOBARS</td>\n",
       "      <td>2000</td>\n",
       "      <td>Kharif</td>\n",
       "      <td>Rice</td>\n",
       "      <td>102</td>\n",
       "      <td>321</td>\n",
       "      <td>3.147059</td>\n",
       "    </tr>\n",
       "    <tr>\n",
       "      <th>3</th>\n",
       "      <td>Andaman and Nicobar Islands</td>\n",
       "      <td>NICOBARS</td>\n",
       "      <td>2000</td>\n",
       "      <td>Whole Year</td>\n",
       "      <td>Banana</td>\n",
       "      <td>176</td>\n",
       "      <td>641</td>\n",
       "      <td>3.642045</td>\n",
       "    </tr>\n",
       "    <tr>\n",
       "      <th>4</th>\n",
       "      <td>Andaman and Nicobar Islands</td>\n",
       "      <td>NICOBARS</td>\n",
       "      <td>2000</td>\n",
       "      <td>Whole Year</td>\n",
       "      <td>Cashewnut</td>\n",
       "      <td>720</td>\n",
       "      <td>165</td>\n",
       "      <td>0.229167</td>\n",
       "    </tr>\n",
       "  </tbody>\n",
       "</table>\n",
       "</div>"
      ],
      "text/plain": [
       "                    State_Name District_Name  Crop_Year       Season  \\\n",
       "0  Andaman and Nicobar Islands      NICOBARS       2000  Kharif        \n",
       "1  Andaman and Nicobar Islands      NICOBARS       2000  Kharif        \n",
       "2  Andaman and Nicobar Islands      NICOBARS       2000  Kharif        \n",
       "3  Andaman and Nicobar Islands      NICOBARS       2000  Whole Year    \n",
       "4  Andaman and Nicobar Islands      NICOBARS       2000  Whole Year    \n",
       "\n",
       "                  Crop  Area  Production  Production/Area  \n",
       "0             Arecanut  1254        2000         1.594896  \n",
       "1  Other Kharif pulses     2           1         0.500000  \n",
       "2                 Rice   102         321         3.147059  \n",
       "3               Banana   176         641         3.642045  \n",
       "4            Cashewnut   720         165         0.229167  "
      ]
     },
     "execution_count": 44,
     "metadata": {},
     "output_type": "execute_result"
    }
   ],
   "source": [
    "crop_data.head()"
   ]
  },
  {
   "cell_type": "code",
   "execution_count": 45,
   "id": "b226066a-b11f-4224-ad3c-d7f21698567e",
   "metadata": {},
   "outputs": [],
   "source": [
    "crop_data[\"Production/Area\"]= crop_data[\"Production/Area\"].apply(lambda x: '%.3f' % x)"
   ]
  },
  {
   "cell_type": "code",
   "execution_count": 46,
   "id": "92a4ff50-f274-40e4-9baf-c4b0ca52fcd0",
   "metadata": {},
   "outputs": [],
   "source": [
    "crop_data[\"Production/Area\"] = crop_data[\"Production/Area\"].astype(float)"
   ]
  },
  {
   "cell_type": "code",
   "execution_count": 47,
   "id": "7c31129e-56cc-4e69-afba-6740606f5ab4",
   "metadata": {},
   "outputs": [],
   "source": [
    "group_2 = crop_data.groupby([\"Crop_Year\"],as_index=False).agg({\"Area\":\"sum\",\"Production\":\"sum\",\"Production/Area\":\"sum\"}).sort_values(by=\"Crop_Year\")"
   ]
  },
  {
   "cell_type": "code",
   "execution_count": 48,
   "id": "f574b854-4a56-48ff-8d45-fe9169cf0d09",
   "metadata": {},
   "outputs": [
    {
     "name": "stdout",
     "output_type": "stream",
     "text": [
      "Output\n",
      "State_Name          object\n",
      "District_Name       object\n",
      "Crop_Year            int64\n",
      "Season              object\n",
      "Crop                object\n",
      "Area                 int32\n",
      "Production           int32\n",
      "Production/Area    float64\n",
      "dtype: object\n"
     ]
    }
   ],
   "source": [
    "result = crop_data.dtypes\n",
    "print(\"Output\")\n",
    "print(result)"
   ]
  },
  {
   "cell_type": "code",
   "execution_count": 49,
   "id": "8bc4d62e-1069-4117-9f56-399d4da3155e",
   "metadata": {},
   "outputs": [],
   "source": [
    "group_2[\"Production/Area\"]= group_2[\"Production/Area\"].apply(lambda x: '%.3f' % x)"
   ]
  },
  {
   "cell_type": "code",
   "execution_count": 50,
   "id": "e20ba1be-fc21-4c86-8ba6-558978ec37f7",
   "metadata": {},
   "outputs": [
    {
     "data": {
      "text/html": [
       "<div>\n",
       "<style scoped>\n",
       "    .dataframe tbody tr th:only-of-type {\n",
       "        vertical-align: middle;\n",
       "    }\n",
       "\n",
       "    .dataframe tbody tr th {\n",
       "        vertical-align: top;\n",
       "    }\n",
       "\n",
       "    .dataframe thead th {\n",
       "        text-align: right;\n",
       "    }\n",
       "</style>\n",
       "<table border=\"1\" class=\"dataframe\">\n",
       "  <thead>\n",
       "    <tr style=\"text-align: right;\">\n",
       "      <th></th>\n",
       "      <th>Crop_Year</th>\n",
       "      <th>Area</th>\n",
       "      <th>Production</th>\n",
       "      <th>Production/Area</th>\n",
       "    </tr>\n",
       "  </thead>\n",
       "  <tbody>\n",
       "    <tr>\n",
       "      <th>0</th>\n",
       "      <td>1997</td>\n",
       "      <td>231715046</td>\n",
       "      <td>851232906</td>\n",
       "      <td>77002.432</td>\n",
       "    </tr>\n",
       "    <tr>\n",
       "      <th>1</th>\n",
       "      <td>1998</td>\n",
       "      <td>166988082</td>\n",
       "      <td>5983178954</td>\n",
       "      <td>47045395.085</td>\n",
       "    </tr>\n",
       "    <tr>\n",
       "      <th>2</th>\n",
       "      <td>1999</td>\n",
       "      <td>158666106</td>\n",
       "      <td>6477771203</td>\n",
       "      <td>19147906.099</td>\n",
       "    </tr>\n",
       "    <tr>\n",
       "      <th>3</th>\n",
       "      <td>2000</td>\n",
       "      <td>165297477</td>\n",
       "      <td>7510871933</td>\n",
       "      <td>32071658.156</td>\n",
       "    </tr>\n",
       "    <tr>\n",
       "      <th>4</th>\n",
       "      <td>2001</td>\n",
       "      <td>165295605</td>\n",
       "      <td>7505151041</td>\n",
       "      <td>19706784.909</td>\n",
       "    </tr>\n",
       "    <tr>\n",
       "      <th>5</th>\n",
       "      <td>2002</td>\n",
       "      <td>157769015</td>\n",
       "      <td>7775593058</td>\n",
       "      <td>30425200.241</td>\n",
       "    </tr>\n",
       "    <tr>\n",
       "      <th>6</th>\n",
       "      <td>2003</td>\n",
       "      <td>172088098</td>\n",
       "      <td>8004183952</td>\n",
       "      <td>23682769.610</td>\n",
       "    </tr>\n",
       "    <tr>\n",
       "      <th>7</th>\n",
       "      <td>2004</td>\n",
       "      <td>167878429</td>\n",
       "      <td>8340329964</td>\n",
       "      <td>54643441.213</td>\n",
       "    </tr>\n",
       "    <tr>\n",
       "      <th>8</th>\n",
       "      <td>2005</td>\n",
       "      <td>163136377</td>\n",
       "      <td>8206858160</td>\n",
       "      <td>57983428.084</td>\n",
       "    </tr>\n",
       "    <tr>\n",
       "      <th>9</th>\n",
       "      <td>2006</td>\n",
       "      <td>170699099</td>\n",
       "      <td>8886954164</td>\n",
       "      <td>73282949.733</td>\n",
       "    </tr>\n",
       "    <tr>\n",
       "      <th>10</th>\n",
       "      <td>2007</td>\n",
       "      <td>152724167</td>\n",
       "      <td>7029145592</td>\n",
       "      <td>62675471.031</td>\n",
       "    </tr>\n",
       "    <tr>\n",
       "      <th>11</th>\n",
       "      <td>2008</td>\n",
       "      <td>171232070</td>\n",
       "      <td>7903419379</td>\n",
       "      <td>63819482.313</td>\n",
       "    </tr>\n",
       "    <tr>\n",
       "      <th>12</th>\n",
       "      <td>2009</td>\n",
       "      <td>165694709</td>\n",
       "      <td>7863787580</td>\n",
       "      <td>76789942.385</td>\n",
       "    </tr>\n",
       "    <tr>\n",
       "      <th>13</th>\n",
       "      <td>2010</td>\n",
       "      <td>176619202</td>\n",
       "      <td>6466049351</td>\n",
       "      <td>inf</td>\n",
       "    </tr>\n",
       "    <tr>\n",
       "      <th>14</th>\n",
       "      <td>2011</td>\n",
       "      <td>153629159</td>\n",
       "      <td>14472004928</td>\n",
       "      <td>inf</td>\n",
       "    </tr>\n",
       "    <tr>\n",
       "      <th>15</th>\n",
       "      <td>2012</td>\n",
       "      <td>152469799</td>\n",
       "      <td>8302700415</td>\n",
       "      <td>41633889.245</td>\n",
       "    </tr>\n",
       "    <tr>\n",
       "      <th>16</th>\n",
       "      <td>2013</td>\n",
       "      <td>141524909</td>\n",
       "      <td>13005526646</td>\n",
       "      <td>inf</td>\n",
       "    </tr>\n",
       "    <tr>\n",
       "      <th>17</th>\n",
       "      <td>2014</td>\n",
       "      <td>115757540</td>\n",
       "      <td>8756576101</td>\n",
       "      <td>inf</td>\n",
       "    </tr>\n",
       "    <tr>\n",
       "      <th>18</th>\n",
       "      <td>2015</td>\n",
       "      <td>4601298</td>\n",
       "      <td>7517561</td>\n",
       "      <td>2944.394</td>\n",
       "    </tr>\n",
       "  </tbody>\n",
       "</table>\n",
       "</div>"
      ],
      "text/plain": [
       "    Crop_Year       Area   Production Production/Area\n",
       "0        1997  231715046    851232906       77002.432\n",
       "1        1998  166988082   5983178954    47045395.085\n",
       "2        1999  158666106   6477771203    19147906.099\n",
       "3        2000  165297477   7510871933    32071658.156\n",
       "4        2001  165295605   7505151041    19706784.909\n",
       "5        2002  157769015   7775593058    30425200.241\n",
       "6        2003  172088098   8004183952    23682769.610\n",
       "7        2004  167878429   8340329964    54643441.213\n",
       "8        2005  163136377   8206858160    57983428.084\n",
       "9        2006  170699099   8886954164    73282949.733\n",
       "10       2007  152724167   7029145592    62675471.031\n",
       "11       2008  171232070   7903419379    63819482.313\n",
       "12       2009  165694709   7863787580    76789942.385\n",
       "13       2010  176619202   6466049351             inf\n",
       "14       2011  153629159  14472004928             inf\n",
       "15       2012  152469799   8302700415    41633889.245\n",
       "16       2013  141524909  13005526646             inf\n",
       "17       2014  115757540   8756576101             inf\n",
       "18       2015    4601298      7517561        2944.394"
      ]
     },
     "execution_count": 50,
     "metadata": {},
     "output_type": "execute_result"
    }
   ],
   "source": [
    "group_2"
   ]
  },
  {
   "cell_type": "code",
   "execution_count": null,
   "id": "32c54740-2351-42af-a07e-b16339e3e506",
   "metadata": {},
   "outputs": [],
   "source": []
  },
  {
   "cell_type": "code",
   "execution_count": 51,
   "id": "f4daf381-8cc5-4c3f-b36b-b053a60927b9",
   "metadata": {},
   "outputs": [
    {
     "data": {
      "image/png": "[encoded data removed]",
      "text/plain": [
       "<Figure size 1300x500 with 1 Axes>"
      ]
     },
     "metadata": {},
     "output_type": "display_data"
    }
   ],
   "source": [
    "sns.set_style(\"dark\")\n",
    "plt.figure(figsize=(13,5))\n",
    "ax_1 = sns.lineplot(data = crop_data,x = \"Crop_Year\", y=\"Production/Area\",ci=70,marker=\"o\",color=\"cornflowerblue\")\n",
    "ax_1.set_xlim(1997, 2015)\n",
    "plt.title(\"Production Per Area Across Cropping Year 1995-2015\",fontsize=15)\n",
    "plt.show()"
   ]
  },
  {
   "cell_type": "code",
   "execution_count": 52,
   "id": "b5069a35-a518-4611-afb2-8b9fe818b544",
   "metadata": {},
   "outputs": [],
   "source": [
    "group_2[\"Production_In_Millions\"] = group_2.apply(lambda row : row[\"Production\"]/1000000, axis=1 )"
   ]
  },
  {
   "cell_type": "code",
   "execution_count": 53,
   "id": "b011862f-78f1-4f28-8ea6-a51199db8672",
   "metadata": {},
   "outputs": [],
   "source": [
    "group_2[\"Production_M\"] = group_2.apply(lambda row : str(round(row[\"Production_In_Millions\"],2)) + \"MM\",axis=1)"
   ]
  },
  {
   "cell_type": "code",
   "execution_count": 54,
   "id": "71e9b21d-de8a-4f32-a08c-3d02981f787d",
   "metadata": {},
   "outputs": [
    {
     "data": {
      "image/png": "[encoded data removed]",
      "text/plain": [
       "<Figure size 1100x500 with 1 Axes>"
      ]
     },
     "metadata": {},
     "output_type": "display_data"
    }
   ],
   "source": [
    "sns.set_style(\"ticks\")\n",
    "plt.figure(figsize=(11,5))\n",
    "ax_1 = sns.lineplot(data = group_2,x = \"Crop_Year\", y=\"Production_In_Millions\",marker=\"o\",color=\"black\")\n",
    "ax_1.set_xlim(1997, 2015)\n",
    "ax_1.text(2014,\t7000\t , \"High Decreasing Trend\", \n",
    "       fontsize = 12,          # Size\n",
    "       fontstyle = \"oblique\",  # Style\n",
    "       color = \"red\",ha = \"right\", # Horizontal alignment\n",
    "       va = \"center\")\n",
    "#data labels\n",
    "for x, y in zip(group_2[\"Crop_Year\"], group_2[\"Production_In_Millions\"]):\n",
    " plt.text(x = x, \n",
    " y = y-10,\n",
    " s = \"{:.0f}\".format(y), \n",
    " color = \"green\")\n",
    "plt.ylabel(\"Production (In Millions)\",fontsize=13)\n",
    "plt.title(\"Crop Production Trend Line\",fontsize=14)\n",
    "plt.show()"
   ]
  },
  {
   "cell_type": "code",
   "execution_count": 55,
   "id": "a16ac8e3-f822-416d-9b44-571f879ff93d",
   "metadata": {},
   "outputs": [
    {
     "data": {
      "text/plain": [
       "Index(['State_Name', 'District_Name', 'Crop_Year', 'Season', 'Crop', 'Area',\n",
       "       'Production', 'Production/Area'],\n",
       "      dtype='object')"
      ]
     },
     "execution_count": 55,
     "metadata": {},
     "output_type": "execute_result"
    }
   ],
   "source": [
    "crop_data.columns"
   ]
  },
  {
   "cell_type": "code",
   "execution_count": 56,
   "id": "87826781-f1b9-4887-9ec6-51b04b0f4946",
   "metadata": {},
   "outputs": [],
   "source": [
    "group_3 = crop_data.groupby([\"Season\"],as_index=False).agg({\"Production\":\"sum\",\"Production/Area\":\"sum\"}).sort_values(by=\"Production\",ascending=False)"
   ]
  },
  {
   "cell_type": "code",
   "execution_count": 57,
   "id": "8e634ba9-f3f3-44e0-bfd0-172ec91b1a6c",
   "metadata": {},
   "outputs": [],
   "source": [
    "group_3.reset_index(drop=True,inplace=True)"
   ]
  },
  {
   "cell_type": "code",
   "execution_count": 58,
   "id": "337d7177-61d7-49e8-bb56-091097b2ecb1",
   "metadata": {},
   "outputs": [
    {
     "data": {
      "text/html": [
       "<div>\n",
       "<style scoped>\n",
       "    .dataframe tbody tr th:only-of-type {\n",
       "        vertical-align: middle;\n",
       "    }\n",
       "\n",
       "    .dataframe tbody tr th {\n",
       "        vertical-align: top;\n",
       "    }\n",
       "\n",
       "    .dataframe thead th {\n",
       "        text-align: right;\n",
       "    }\n",
       "</style>\n",
       "<table border=\"1\" class=\"dataframe\">\n",
       "  <thead>\n",
       "    <tr style=\"text-align: right;\">\n",
       "      <th></th>\n",
       "      <th>Season</th>\n",
       "      <th>Production</th>\n",
       "      <th>Production/Area</th>\n",
       "    </tr>\n",
       "  </thead>\n",
       "  <tbody>\n",
       "    <tr>\n",
       "      <th>0</th>\n",
       "      <td>Whole Year</td>\n",
       "      <td>135111025988</td>\n",
       "      <td>inf</td>\n",
       "    </tr>\n",
       "    <tr>\n",
       "      <th>1</th>\n",
       "      <td>Kharif</td>\n",
       "      <td>5001585237</td>\n",
       "      <td>3.102359e+08</td>\n",
       "    </tr>\n",
       "    <tr>\n",
       "      <th>2</th>\n",
       "      <td>Rabi</td>\n",
       "      <td>2533417515</td>\n",
       "      <td>1.689052e+08</td>\n",
       "    </tr>\n",
       "    <tr>\n",
       "      <th>3</th>\n",
       "      <td>Winter</td>\n",
       "      <td>439209845</td>\n",
       "      <td>3.896095e+06</td>\n",
       "    </tr>\n",
       "    <tr>\n",
       "      <th>4</th>\n",
       "      <td>Summer</td>\n",
       "      <td>188132993</td>\n",
       "      <td>1.250519e+07</td>\n",
       "    </tr>\n",
       "    <tr>\n",
       "      <th>5</th>\n",
       "      <td>Autumn</td>\n",
       "      <td>75481310</td>\n",
       "      <td>6.951911e+06</td>\n",
       "    </tr>\n",
       "  </tbody>\n",
       "</table>\n",
       "</div>"
      ],
      "text/plain": [
       "        Season    Production  Production/Area\n",
       "0  Whole Year   135111025988              inf\n",
       "1  Kharif         5001585237     3.102359e+08\n",
       "2  Rabi           2533417515     1.689052e+08\n",
       "3  Winter          439209845     3.896095e+06\n",
       "4  Summer          188132993     1.250519e+07\n",
       "5  Autumn           75481310     6.951911e+06"
      ]
     },
     "execution_count": 58,
     "metadata": {},
     "output_type": "execute_result"
    }
   ],
   "source": [
    "group_3"
   ]
  },
  {
   "cell_type": "code",
   "execution_count": 181,
   "id": "96a2f1b2-8f00-44ae-a6a3-6c803593fda4",
   "metadata": {},
   "outputs": [
    {
     "data": {
      "text/plain": [
       "<Axes: xlabel='Production', ylabel='Season'>"
      ]
     },
     "execution_count": 181,
     "metadata": {},
     "output_type": "execute_result"
    },
    {
     "data": {
      "image/png": "[encoded data removed]",
      "text/plain": [
       "<Figure size 640x480 with 1 Axes>"
      ]
     },
     "metadata": {},
     "output_type": "display_data"
    }
   ],
   "source": [
    "sns.barplot(data = group_3, y= \"Season\",x=\"Production\",estimator=\"sum\")"
   ]
  },
  {
   "cell_type": "markdown",
   "id": "424770ef-0c1a-4515-adc5-9ecca525ca95",
   "metadata": {},
   "source": [
    "As we see whole year production is highest basic reasoning it happens whole year that's why the production is higher now lets check the production/Area \n",
    "contribution in each season except whole year season"
   ]
  },
  {
   "cell_type": "code",
   "execution_count": 61,
   "id": "4abb6808-713b-4a7e-bf6f-dd8a66996428",
   "metadata": {},
   "outputs": [],
   "source": [
    "group_3 = group_3[1:]"
   ]
  },
  {
   "cell_type": "code",
   "execution_count": 62,
   "id": "4ebcb56f-5b3f-4c45-be1f-82ef4ae279d7",
   "metadata": {},
   "outputs": [],
   "source": [
    "group_3[\"Production/Area\"] = group_3[\"Production/Area\"].astype(int)"
   ]
  },
  {
   "cell_type": "code",
   "execution_count": 63,
   "id": "360baf00-9af7-4355-9013-6c2bd1137ad4",
   "metadata": {},
   "outputs": [
    {
     "data": {
      "text/html": [
       "<div>\n",
       "<style scoped>\n",
       "    .dataframe tbody tr th:only-of-type {\n",
       "        vertical-align: middle;\n",
       "    }\n",
       "\n",
       "    .dataframe tbody tr th {\n",
       "        vertical-align: top;\n",
       "    }\n",
       "\n",
       "    .dataframe thead th {\n",
       "        text-align: right;\n",
       "    }\n",
       "</style>\n",
       "<table border=\"1\" class=\"dataframe\">\n",
       "  <thead>\n",
       "    <tr style=\"text-align: right;\">\n",
       "      <th></th>\n",
       "      <th>Season</th>\n",
       "      <th>Production</th>\n",
       "      <th>Production/Area</th>\n",
       "    </tr>\n",
       "  </thead>\n",
       "  <tbody>\n",
       "    <tr>\n",
       "      <th>1</th>\n",
       "      <td>Kharif</td>\n",
       "      <td>5001585237</td>\n",
       "      <td>310235902</td>\n",
       "    </tr>\n",
       "    <tr>\n",
       "      <th>2</th>\n",
       "      <td>Rabi</td>\n",
       "      <td>2533417515</td>\n",
       "      <td>168905218</td>\n",
       "    </tr>\n",
       "    <tr>\n",
       "      <th>3</th>\n",
       "      <td>Winter</td>\n",
       "      <td>439209845</td>\n",
       "      <td>3896094</td>\n",
       "    </tr>\n",
       "    <tr>\n",
       "      <th>4</th>\n",
       "      <td>Summer</td>\n",
       "      <td>188132993</td>\n",
       "      <td>12505193</td>\n",
       "    </tr>\n",
       "    <tr>\n",
       "      <th>5</th>\n",
       "      <td>Autumn</td>\n",
       "      <td>75481310</td>\n",
       "      <td>6951910</td>\n",
       "    </tr>\n",
       "  </tbody>\n",
       "</table>\n",
       "</div>"
      ],
      "text/plain": [
       "        Season  Production  Production/Area\n",
       "1  Kharif       5001585237        310235902\n",
       "2  Rabi         2533417515        168905218\n",
       "3  Winter        439209845          3896094\n",
       "4  Summer        188132993         12505193\n",
       "5  Autumn         75481310          6951910"
      ]
     },
     "execution_count": 63,
     "metadata": {},
     "output_type": "execute_result"
    }
   ],
   "source": [
    "group_3"
   ]
  },
  {
   "cell_type": "code",
   "execution_count": 132,
   "id": "171aca65-8425-4feb-95e1-306fa0e61a0d",
   "metadata": {},
   "outputs": [
    {
     "data": {
      "image/png": "[encoded data removed]",
      "text/plain": [
       "<Figure size 1000x400 with 1 Axes>"
      ]
     },
     "metadata": {},
     "output_type": "display_data"
    }
   ],
   "source": [
    "palette= sns.color_palette(\"RdPu\",n_colors=6)\n",
    "plt.figure(figsize= (10,4))\n",
    "palette.reverse()\n",
    "ax_1 =sns.barplot(data = group_3, x= \"Production/Area\",y=\"Season\",palette= palette)\n",
    "for x in ax_1.containers:\n",
    "    ax_1.bar_label(x,fontsize=12)\n",
    "plt.title(\"Crop Production/Area By Each Season\",fontsize=13)\n",
    "plt.show()"
   ]
  },
  {
   "cell_type": "code",
   "execution_count": 65,
   "id": "6318a93e-f987-4883-baf6-0e7f3b56e502",
   "metadata": {},
   "outputs": [],
   "source": [
    "group_4 = crop_data.groupby([\"Crop_Year\",\"Season\"],as_index=False).agg({\"Production\":\"sum\"}).sort_values(by=\"Crop_Year\",ascending = True)"
   ]
  },
  {
   "cell_type": "code",
   "execution_count": 66,
   "id": "6340cce4-267d-45c9-b561-3d62288117a7",
   "metadata": {},
   "outputs": [
    {
     "data": {
      "text/html": [
       "<div>\n",
       "<style scoped>\n",
       "    .dataframe tbody tr th:only-of-type {\n",
       "        vertical-align: middle;\n",
       "    }\n",
       "\n",
       "    .dataframe tbody tr th {\n",
       "        vertical-align: top;\n",
       "    }\n",
       "\n",
       "    .dataframe thead th {\n",
       "        text-align: right;\n",
       "    }\n",
       "</style>\n",
       "<table border=\"1\" class=\"dataframe\">\n",
       "  <thead>\n",
       "    <tr style=\"text-align: right;\">\n",
       "      <th></th>\n",
       "      <th>Crop_Year</th>\n",
       "      <th>Season</th>\n",
       "      <th>Production</th>\n",
       "    </tr>\n",
       "  </thead>\n",
       "  <tbody>\n",
       "    <tr>\n",
       "      <th>0</th>\n",
       "      <td>1997</td>\n",
       "      <td>Autumn</td>\n",
       "      <td>3018718</td>\n",
       "    </tr>\n",
       "    <tr>\n",
       "      <th>1</th>\n",
       "      <td>1997</td>\n",
       "      <td>Kharif</td>\n",
       "      <td>138280321</td>\n",
       "    </tr>\n",
       "    <tr>\n",
       "      <th>2</th>\n",
       "      <td>1997</td>\n",
       "      <td>Rabi</td>\n",
       "      <td>120346325</td>\n",
       "    </tr>\n",
       "    <tr>\n",
       "      <th>3</th>\n",
       "      <td>1997</td>\n",
       "      <td>Summer</td>\n",
       "      <td>7458988</td>\n",
       "    </tr>\n",
       "    <tr>\n",
       "      <th>4</th>\n",
       "      <td>1997</td>\n",
       "      <td>Whole Year</td>\n",
       "      <td>560945202</td>\n",
       "    </tr>\n",
       "    <tr>\n",
       "      <th>5</th>\n",
       "      <td>1997</td>\n",
       "      <td>Winter</td>\n",
       "      <td>21183352</td>\n",
       "    </tr>\n",
       "    <tr>\n",
       "      <th>6</th>\n",
       "      <td>1998</td>\n",
       "      <td>Autumn</td>\n",
       "      <td>9992223</td>\n",
       "    </tr>\n",
       "    <tr>\n",
       "      <th>7</th>\n",
       "      <td>1998</td>\n",
       "      <td>Kharif</td>\n",
       "      <td>245503505</td>\n",
       "    </tr>\n",
       "    <tr>\n",
       "      <th>8</th>\n",
       "      <td>1998</td>\n",
       "      <td>Rabi</td>\n",
       "      <td>132922131</td>\n",
       "    </tr>\n",
       "    <tr>\n",
       "      <th>9</th>\n",
       "      <td>1998</td>\n",
       "      <td>Summer</td>\n",
       "      <td>15309134</td>\n",
       "    </tr>\n",
       "  </tbody>\n",
       "</table>\n",
       "</div>"
      ],
      "text/plain": [
       "   Crop_Year       Season  Production\n",
       "0       1997  Autumn          3018718\n",
       "1       1997  Kharif        138280321\n",
       "2       1997  Rabi          120346325\n",
       "3       1997  Summer          7458988\n",
       "4       1997  Whole Year    560945202\n",
       "5       1997  Winter         21183352\n",
       "6       1998  Autumn          9992223\n",
       "7       1998  Kharif        245503505\n",
       "8       1998  Rabi          132922131\n",
       "9       1998  Summer         15309134"
      ]
     },
     "execution_count": 66,
     "metadata": {},
     "output_type": "execute_result"
    }
   ],
   "source": [
    "group_4.head(10)"
   ]
  },
  {
   "cell_type": "code",
   "execution_count": 67,
   "id": "f589da9c-4500-4d06-8e92-b0b6d059fee5",
   "metadata": {},
   "outputs": [],
   "source": [
    "group_4 = group_4[group_4[\"Season\"] != \"Whole Year \"]"
   ]
  },
  {
   "cell_type": "code",
   "execution_count": 129,
   "id": "b297fbd0-0a3f-4ff3-bf28-8cb9b11c1c75",
   "metadata": {},
   "outputs": [
    {
     "data": {
      "image/png": "[encoded data removed]",
      "text/plain": [
       "<Figure size 1000x500 with 1 Axes>"
      ]
     },
     "metadata": {},
     "output_type": "display_data"
    }
   ],
   "source": [
    "sns.set_theme()\n",
    "plt.figure(figsize=(10,5))\n",
    "ax_1 =sns.lineplot(data = group_4, x= \"Crop_Year\",y=\"Production\",hue=\"Season\",estimator=\"sum\",palette = \"bright\")\n",
    "ax_1.set_xlim(1997, 2015)\n",
    "plt.title(\"Crop Production Season Trend Line\",fontsize=14)\n",
    "plt.show()"
   ]
  },
  {
   "cell_type": "markdown",
   "id": "dfc5cf8b-93ff-4276-ac78-f6bdc2c0ef03",
   "metadata": {},
   "source": [
    "As per the above trendline and distribution by each croping season we can retrieve that the crop production decreases for all season crops from 2014 to\n",
    "2015 their might be some cause that affect the production"
   ]
  },
  {
   "cell_type": "code",
   "execution_count": 138,
   "id": "22e89cc0-54e7-4348-b5aa-3ef069051e85",
   "metadata": {},
   "outputs": [],
   "source": [
    "group_5 = crop_data.groupby([\"Crop\"],as_index=False).agg({\"Production\":\"sum\"}).sort_values(by=\"Production\",ascending=False)"
   ]
  },
  {
   "cell_type": "code",
   "execution_count": 142,
   "id": "abcb8320-c75c-422b-9428-95fd98ea3c09",
   "metadata": {},
   "outputs": [],
   "source": [
    "group_5.reset_index(drop=True,inplace=True)"
   ]
  },
  {
   "cell_type": "code",
   "execution_count": 144,
   "id": "1d619b48-7e01-45d0-bf6c-033a734355b5",
   "metadata": {},
   "outputs": [
    {
     "data": {
      "text/html": [
       "<div>\n",
       "<style scoped>\n",
       "    .dataframe tbody tr th:only-of-type {\n",
       "        vertical-align: middle;\n",
       "    }\n",
       "\n",
       "    .dataframe tbody tr th {\n",
       "        vertical-align: top;\n",
       "    }\n",
       "\n",
       "    .dataframe thead th {\n",
       "        text-align: right;\n",
       "    }\n",
       "</style>\n",
       "<table border=\"1\" class=\"dataframe\">\n",
       "  <thead>\n",
       "    <tr style=\"text-align: right;\">\n",
       "      <th></th>\n",
       "      <th>Crop</th>\n",
       "      <th>Production</th>\n",
       "    </tr>\n",
       "  </thead>\n",
       "  <tbody>\n",
       "    <tr>\n",
       "      <th>0</th>\n",
       "      <td>Coconut</td>\n",
       "      <td>129997356799</td>\n",
       "    </tr>\n",
       "    <tr>\n",
       "      <th>1</th>\n",
       "      <td>Sugarcane</td>\n",
       "      <td>5590436808</td>\n",
       "    </tr>\n",
       "    <tr>\n",
       "      <th>2</th>\n",
       "      <td>Rice</td>\n",
       "      <td>1618285451</td>\n",
       "    </tr>\n",
       "    <tr>\n",
       "      <th>3</th>\n",
       "      <td>Wheat</td>\n",
       "      <td>1345058206</td>\n",
       "    </tr>\n",
       "    <tr>\n",
       "      <th>4</th>\n",
       "      <td>Potato</td>\n",
       "      <td>434728891</td>\n",
       "    </tr>\n",
       "    <tr>\n",
       "      <th>...</th>\n",
       "      <td>...</td>\n",
       "      <td>...</td>\n",
       "    </tr>\n",
       "    <tr>\n",
       "      <th>119</th>\n",
       "      <td>Snak Guard</td>\n",
       "      <td>0</td>\n",
       "    </tr>\n",
       "    <tr>\n",
       "      <th>120</th>\n",
       "      <td>Peas  (vegetable)</td>\n",
       "      <td>0</td>\n",
       "    </tr>\n",
       "    <tr>\n",
       "      <th>121</th>\n",
       "      <td>Plums</td>\n",
       "      <td>0</td>\n",
       "    </tr>\n",
       "    <tr>\n",
       "      <th>122</th>\n",
       "      <td>Ribed Guard</td>\n",
       "      <td>0</td>\n",
       "    </tr>\n",
       "    <tr>\n",
       "      <th>123</th>\n",
       "      <td>Apple</td>\n",
       "      <td>0</td>\n",
       "    </tr>\n",
       "  </tbody>\n",
       "</table>\n",
       "<p>124 rows × 2 columns</p>\n",
       "</div>"
      ],
      "text/plain": [
       "                  Crop    Production\n",
       "0             Coconut   129997356799\n",
       "1            Sugarcane    5590436808\n",
       "2                 Rice    1618285451\n",
       "3                Wheat    1345058206\n",
       "4               Potato     434728891\n",
       "..                 ...           ...\n",
       "119         Snak Guard             0\n",
       "120  Peas  (vegetable)             0\n",
       "121              Plums             0\n",
       "122        Ribed Guard             0\n",
       "123              Apple             0\n",
       "\n",
       "[124 rows x 2 columns]"
      ]
     },
     "execution_count": 144,
     "metadata": {},
     "output_type": "execute_result"
    }
   ],
   "source": [
    "group_5"
   ]
  },
  {
   "cell_type": "markdown",
   "id": "e0ccbcd9-8105-4b7a-afe8-2b8b7bae9c37",
   "metadata": {},
   "source": [
    "# Top 20 Crop Type Producing all the years"
   ]
  },
  {
   "cell_type": "code",
   "execution_count": 149,
   "id": "aa842db2-88f3-447b-97b3-7e75e081761c",
   "metadata": {},
   "outputs": [],
   "source": [
    "group_5_a = group_5.head(20)"
   ]
  },
  {
   "cell_type": "code",
   "execution_count": 188,
   "id": "90a2e23a-84aa-43b3-88dd-185ca1a2c76b",
   "metadata": {},
   "outputs": [],
   "source": [
    "group_5_a[\"Production(In Millions)\"] = group_5_a.apply(lambda row : row[\"Production\"]/1000000, axis=1 )"
   ]
  },
  {
   "cell_type": "code",
   "execution_count": 190,
   "id": "994e3a61-ee55-4819-9d62-c33cc0afd26d",
   "metadata": {},
   "outputs": [
    {
     "data": {
      "text/html": [
       "<div>\n",
       "<style scoped>\n",
       "    .dataframe tbody tr th:only-of-type {\n",
       "        vertical-align: middle;\n",
       "    }\n",
       "\n",
       "    .dataframe tbody tr th {\n",
       "        vertical-align: top;\n",
       "    }\n",
       "\n",
       "    .dataframe thead th {\n",
       "        text-align: right;\n",
       "    }\n",
       "</style>\n",
       "<table border=\"1\" class=\"dataframe\">\n",
       "  <thead>\n",
       "    <tr style=\"text-align: right;\">\n",
       "      <th></th>\n",
       "      <th>Crop</th>\n",
       "      <th>Production</th>\n",
       "      <th>Production(In Millions)</th>\n",
       "    </tr>\n",
       "  </thead>\n",
       "  <tbody>\n",
       "    <tr>\n",
       "      <th>0</th>\n",
       "      <td>Coconut</td>\n",
       "      <td>129997356799</td>\n",
       "      <td>129997.356799</td>\n",
       "    </tr>\n",
       "    <tr>\n",
       "      <th>1</th>\n",
       "      <td>Sugarcane</td>\n",
       "      <td>5590436808</td>\n",
       "      <td>5590.436808</td>\n",
       "    </tr>\n",
       "    <tr>\n",
       "      <th>2</th>\n",
       "      <td>Rice</td>\n",
       "      <td>1618285451</td>\n",
       "      <td>1618.285451</td>\n",
       "    </tr>\n",
       "    <tr>\n",
       "      <th>3</th>\n",
       "      <td>Wheat</td>\n",
       "      <td>1345058206</td>\n",
       "      <td>1345.058206</td>\n",
       "    </tr>\n",
       "    <tr>\n",
       "      <th>4</th>\n",
       "      <td>Potato</td>\n",
       "      <td>434728891</td>\n",
       "      <td>434.728891</td>\n",
       "    </tr>\n",
       "    <tr>\n",
       "      <th>5</th>\n",
       "      <td>Cotton(lint)</td>\n",
       "      <td>376220423</td>\n",
       "      <td>376.220423</td>\n",
       "    </tr>\n",
       "    <tr>\n",
       "      <th>6</th>\n",
       "      <td>Maize</td>\n",
       "      <td>366542281</td>\n",
       "      <td>366.542281</td>\n",
       "    </tr>\n",
       "    <tr>\n",
       "      <th>7</th>\n",
       "      <td>Jute</td>\n",
       "      <td>207770812</td>\n",
       "      <td>207.770812</td>\n",
       "    </tr>\n",
       "    <tr>\n",
       "      <th>8</th>\n",
       "      <td>Banana</td>\n",
       "      <td>190402908</td>\n",
       "      <td>190.402908</td>\n",
       "    </tr>\n",
       "    <tr>\n",
       "      <th>9</th>\n",
       "      <td>Gram</td>\n",
       "      <td>177469638</td>\n",
       "      <td>177.469638</td>\n",
       "    </tr>\n",
       "    <tr>\n",
       "      <th>10</th>\n",
       "      <td>Soyabean</td>\n",
       "      <td>159894812</td>\n",
       "      <td>159.894812</td>\n",
       "    </tr>\n",
       "    <tr>\n",
       "      <th>11</th>\n",
       "      <td>Jowar</td>\n",
       "      <td>158285984</td>\n",
       "      <td>158.285984</td>\n",
       "    </tr>\n",
       "    <tr>\n",
       "      <th>12</th>\n",
       "      <td>Bajra</td>\n",
       "      <td>157641140</td>\n",
       "      <td>157.641140</td>\n",
       "    </tr>\n",
       "    <tr>\n",
       "      <th>13</th>\n",
       "      <td>Groundnut</td>\n",
       "      <td>149025069</td>\n",
       "      <td>149.025069</td>\n",
       "    </tr>\n",
       "    <tr>\n",
       "      <th>14</th>\n",
       "      <td>Sesamum</td>\n",
       "      <td>142072196</td>\n",
       "      <td>142.072196</td>\n",
       "    </tr>\n",
       "    <tr>\n",
       "      <th>15</th>\n",
       "      <td>Moong(Green Gram)</td>\n",
       "      <td>141793815</td>\n",
       "      <td>141.793815</td>\n",
       "    </tr>\n",
       "    <tr>\n",
       "      <th>16</th>\n",
       "      <td>Rapeseed &amp;Mustard</td>\n",
       "      <td>125236928</td>\n",
       "      <td>125.236928</td>\n",
       "    </tr>\n",
       "    <tr>\n",
       "      <th>17</th>\n",
       "      <td>Sannhamp</td>\n",
       "      <td>123867539</td>\n",
       "      <td>123.867539</td>\n",
       "    </tr>\n",
       "    <tr>\n",
       "      <th>18</th>\n",
       "      <td>Tapioca</td>\n",
       "      <td>106172212</td>\n",
       "      <td>106.172212</td>\n",
       "    </tr>\n",
       "    <tr>\n",
       "      <th>19</th>\n",
       "      <td>Urad</td>\n",
       "      <td>103960905</td>\n",
       "      <td>103.960905</td>\n",
       "    </tr>\n",
       "  </tbody>\n",
       "</table>\n",
       "</div>"
      ],
      "text/plain": [
       "                 Crop    Production  Production(In Millions)\n",
       "0            Coconut   129997356799            129997.356799\n",
       "1           Sugarcane    5590436808              5590.436808\n",
       "2                Rice    1618285451              1618.285451\n",
       "3               Wheat    1345058206              1345.058206\n",
       "4              Potato     434728891               434.728891\n",
       "5        Cotton(lint)     376220423               376.220423\n",
       "6               Maize     366542281               366.542281\n",
       "7                Jute     207770812               207.770812\n",
       "8              Banana     190402908               190.402908\n",
       "9                Gram     177469638               177.469638\n",
       "10           Soyabean     159894812               159.894812\n",
       "11              Jowar     158285984               158.285984\n",
       "12              Bajra     157641140               157.641140\n",
       "13          Groundnut     149025069               149.025069\n",
       "14            Sesamum     142072196               142.072196\n",
       "15  Moong(Green Gram)     141793815               141.793815\n",
       "16  Rapeseed &Mustard     125236928               125.236928\n",
       "17           Sannhamp     123867539               123.867539\n",
       "18            Tapioca     106172212               106.172212\n",
       "19               Urad     103960905               103.960905"
      ]
     },
     "execution_count": 190,
     "metadata": {},
     "output_type": "execute_result"
    }
   ],
   "source": [
    "group_5_a"
   ]
  },
  {
   "cell_type": "code",
   "execution_count": 202,
   "id": "42a4dcee-7a66-42cd-bf35-ad47dee0e052",
   "metadata": {},
   "outputs": [
    {
     "data": {
      "image/png": "[encoded data removed]",
      "text/plain": [
       "<Figure size 1000x800 with 1 Axes>"
      ]
     },
     "metadata": {},
     "output_type": "display_data"
    }
   ],
   "source": [
    "plt.figure(figsize = (10,8))\n",
    "ax_1 = sns.barplot(data = group_5_a, x= \"Production(In Millions)\",y=\"Crop\",palette=\"rocket\")\n",
    "for x in ax_1.containers:\n",
    "    ax_1.bar_label(x)\n",
    "plt.title(\"Each Crop Type Production Across All Years 1995-2015\",fontsize=14)\n",
    "plt.show()"
   ]
  },
  {
   "cell_type": "markdown",
   "id": "f2807896-14bd-42e4-9549-9c8c34ce5950",
   "metadata": {},
   "source": [
    "# Least 10 Crop Types Producing across all Years"
   ]
  },
  {
   "cell_type": "code",
   "execution_count": 206,
   "id": "73578600-2cb6-42e6-afbf-d87b01fc77e1",
   "metadata": {},
   "outputs": [],
   "source": [
    "group_5_b = group_5.tail(10)\n",
    "group_5_b[\"Production(In Millions)\"] = group_5_b.apply(lambda row : row[\"Production\"]/1000000, axis=1 )"
   ]
  },
  {
   "cell_type": "code",
   "execution_count": 208,
   "id": "f432df22-ad48-430f-8609-f1ac7f6caed8",
   "metadata": {},
   "outputs": [
    {
     "data": {
      "text/html": [
       "<div>\n",
       "<style scoped>\n",
       "    .dataframe tbody tr th:only-of-type {\n",
       "        vertical-align: middle;\n",
       "    }\n",
       "\n",
       "    .dataframe tbody tr th {\n",
       "        vertical-align: top;\n",
       "    }\n",
       "\n",
       "    .dataframe thead th {\n",
       "        text-align: right;\n",
       "    }\n",
       "</style>\n",
       "<table border=\"1\" class=\"dataframe\">\n",
       "  <thead>\n",
       "    <tr style=\"text-align: right;\">\n",
       "      <th></th>\n",
       "      <th>Crop</th>\n",
       "      <th>Production</th>\n",
       "      <th>Production(In Millions)</th>\n",
       "    </tr>\n",
       "  </thead>\n",
       "  <tbody>\n",
       "    <tr>\n",
       "      <th>114</th>\n",
       "      <td>Beet Root</td>\n",
       "      <td>0</td>\n",
       "      <td>0.0</td>\n",
       "    </tr>\n",
       "    <tr>\n",
       "      <th>115</th>\n",
       "      <td>Other Citrus Fruit</td>\n",
       "      <td>0</td>\n",
       "      <td>0.0</td>\n",
       "    </tr>\n",
       "    <tr>\n",
       "      <th>116</th>\n",
       "      <td>Other Dry Fruit</td>\n",
       "      <td>0</td>\n",
       "      <td>0.0</td>\n",
       "    </tr>\n",
       "    <tr>\n",
       "      <th>117</th>\n",
       "      <td>Peach</td>\n",
       "      <td>0</td>\n",
       "      <td>0.0</td>\n",
       "    </tr>\n",
       "    <tr>\n",
       "      <th>118</th>\n",
       "      <td>Pear</td>\n",
       "      <td>0</td>\n",
       "      <td>0.0</td>\n",
       "    </tr>\n",
       "    <tr>\n",
       "      <th>119</th>\n",
       "      <td>Snak Guard</td>\n",
       "      <td>0</td>\n",
       "      <td>0.0</td>\n",
       "    </tr>\n",
       "    <tr>\n",
       "      <th>120</th>\n",
       "      <td>Peas  (vegetable)</td>\n",
       "      <td>0</td>\n",
       "      <td>0.0</td>\n",
       "    </tr>\n",
       "    <tr>\n",
       "      <th>121</th>\n",
       "      <td>Plums</td>\n",
       "      <td>0</td>\n",
       "      <td>0.0</td>\n",
       "    </tr>\n",
       "    <tr>\n",
       "      <th>122</th>\n",
       "      <td>Ribed Guard</td>\n",
       "      <td>0</td>\n",
       "      <td>0.0</td>\n",
       "    </tr>\n",
       "    <tr>\n",
       "      <th>123</th>\n",
       "      <td>Apple</td>\n",
       "      <td>0</td>\n",
       "      <td>0.0</td>\n",
       "    </tr>\n",
       "  </tbody>\n",
       "</table>\n",
       "</div>"
      ],
      "text/plain": [
       "                   Crop  Production  Production(In Millions)\n",
       "114           Beet Root           0                      0.0\n",
       "115  Other Citrus Fruit           0                      0.0\n",
       "116     Other Dry Fruit           0                      0.0\n",
       "117               Peach           0                      0.0\n",
       "118                Pear           0                      0.0\n",
       "119          Snak Guard           0                      0.0\n",
       "120   Peas  (vegetable)           0                      0.0\n",
       "121               Plums           0                      0.0\n",
       "122         Ribed Guard           0                      0.0\n",
       "123               Apple           0                      0.0"
      ]
     },
     "execution_count": 208,
     "metadata": {},
     "output_type": "execute_result"
    }
   ],
   "source": [
    "group_5_b"
   ]
  },
  {
   "cell_type": "code",
   "execution_count": 218,
   "id": "255c23e0-161d-477a-86af-d0f6ee9c3fe2",
   "metadata": {},
   "outputs": [],
   "source": [
    "data_1 = crop_data.groupby(\"Crop\")[\"Production\"].sum().sort_values(ascending=False)"
   ]
  },
  {
   "cell_type": "code",
   "execution_count": 228,
   "id": "44269a44-388d-462a-b1f3-ad6469db7c1a",
   "metadata": {},
   "outputs": [],
   "source": [
    "data_1 = data_1.head(5)"
   ]
  },
  {
   "cell_type": "markdown",
   "id": "160fd489-5e4d-4cfd-b563-36caebffd102",
   "metadata": {},
   "source": [
    "# Top 5 Crop Type Production Contribution"
   ]
  },
  {
   "cell_type": "code",
   "execution_count": 231,
   "id": "60e061b7-43ce-4252-882f-eddd3de2d0f8",
   "metadata": {},
   "outputs": [
    {
     "data": {
      "image/png": "[encoded data removed]",
      "text/plain": [
       "<Figure size 600x600 with 1 Axes>"
      ]
     },
     "metadata": {},
     "output_type": "display_data"
    }
   ],
   "source": [
    "plt.figure(figsize=(6,6))\n",
    "plt.pie(x=data_1,labels= data_1.index,autopct=\"%.2f\",colors=[\n",
    "        # matplotlib named colors \n",
    "        'tomato', 'cornflowerblue', 'gold', 'orchid', 'green', \n",
    "        \"#77BFE2\",\"brown\"],textprops={\"fontsize\":14,\"color\":\"black\"})\n",
    "plt.title(\"Birds Strike During Different Phase of Flight\",fontsize=20)\n",
    "plt.show()"
   ]
  },
  {
   "cell_type": "code",
   "execution_count": 233,
   "id": "5af42205-033a-4aad-98e4-aad813eed93a",
   "metadata": {},
   "outputs": [],
   "source": [
    "group_6 = crop_data.groupby([\"Season\",\"Crop\"],as_index=False).agg({\"Production\":\"sum\"}).sort_values(by=\"Production\",ascending=False)"
   ]
  },
  {
   "cell_type": "code",
   "execution_count": 237,
   "id": "50f75cc5-339e-45f6-bd50-a35faa6a674a",
   "metadata": {},
   "outputs": [],
   "source": [
    "group_6.reset_index(drop=True,inplace=True)"
   ]
  },
  {
   "cell_type": "code",
   "execution_count": 239,
   "id": "9d028f1e-57bc-4f36-9fdd-a1f405f6c50c",
   "metadata": {},
   "outputs": [
    {
     "data": {
      "text/html": [
       "<div>\n",
       "<style scoped>\n",
       "    .dataframe tbody tr th:only-of-type {\n",
       "        vertical-align: middle;\n",
       "    }\n",
       "\n",
       "    .dataframe tbody tr th {\n",
       "        vertical-align: top;\n",
       "    }\n",
       "\n",
       "    .dataframe thead th {\n",
       "        text-align: right;\n",
       "    }\n",
       "</style>\n",
       "<table border=\"1\" class=\"dataframe\">\n",
       "  <thead>\n",
       "    <tr style=\"text-align: right;\">\n",
       "      <th></th>\n",
       "      <th>Season</th>\n",
       "      <th>Crop</th>\n",
       "      <th>Production</th>\n",
       "    </tr>\n",
       "  </thead>\n",
       "  <tbody>\n",
       "    <tr>\n",
       "      <th>0</th>\n",
       "      <td>Whole Year</td>\n",
       "      <td>Coconut</td>\n",
       "      <td>129994900195</td>\n",
       "    </tr>\n",
       "    <tr>\n",
       "      <th>1</th>\n",
       "      <td>Whole Year</td>\n",
       "      <td>Sugarcane</td>\n",
       "      <td>3799928728</td>\n",
       "    </tr>\n",
       "    <tr>\n",
       "      <th>2</th>\n",
       "      <td>Kharif</td>\n",
       "      <td>Sugarcane</td>\n",
       "      <td>1774444484</td>\n",
       "    </tr>\n",
       "    <tr>\n",
       "      <th>3</th>\n",
       "      <td>Rabi</td>\n",
       "      <td>Wheat</td>\n",
       "      <td>1333210178</td>\n",
       "    </tr>\n",
       "    <tr>\n",
       "      <th>4</th>\n",
       "      <td>Kharif</td>\n",
       "      <td>Rice</td>\n",
       "      <td>949811635</td>\n",
       "    </tr>\n",
       "    <tr>\n",
       "      <th>...</th>\n",
       "      <td>...</td>\n",
       "      <td>...</td>\n",
       "      <td>...</td>\n",
       "    </tr>\n",
       "    <tr>\n",
       "      <th>334</th>\n",
       "      <td>Whole Year</td>\n",
       "      <td>Other Citrus Fruit</td>\n",
       "      <td>0</td>\n",
       "    </tr>\n",
       "    <tr>\n",
       "      <th>335</th>\n",
       "      <td>Whole Year</td>\n",
       "      <td>Water Melon</td>\n",
       "      <td>0</td>\n",
       "    </tr>\n",
       "    <tr>\n",
       "      <th>336</th>\n",
       "      <td>Whole Year</td>\n",
       "      <td>Yam</td>\n",
       "      <td>0</td>\n",
       "    </tr>\n",
       "    <tr>\n",
       "      <th>337</th>\n",
       "      <td>Whole Year</td>\n",
       "      <td>other fibres</td>\n",
       "      <td>0</td>\n",
       "    </tr>\n",
       "    <tr>\n",
       "      <th>338</th>\n",
       "      <td>Whole Year</td>\n",
       "      <td>Cucumber</td>\n",
       "      <td>0</td>\n",
       "    </tr>\n",
       "  </tbody>\n",
       "</table>\n",
       "<p>339 rows × 3 columns</p>\n",
       "</div>"
      ],
      "text/plain": [
       "          Season                Crop    Production\n",
       "0    Whole Year             Coconut   129994900195\n",
       "1    Whole Year            Sugarcane    3799928728\n",
       "2    Kharif                Sugarcane    1774444484\n",
       "3    Rabi                      Wheat    1333210178\n",
       "4    Kharif                     Rice     949811635\n",
       "..           ...                 ...           ...\n",
       "334  Whole Year   Other Citrus Fruit             0\n",
       "335  Whole Year          Water Melon             0\n",
       "336  Whole Year                  Yam             0\n",
       "337  Whole Year         other fibres             0\n",
       "338  Whole Year             Cucumber             0\n",
       "\n",
       "[339 rows x 3 columns]"
      ]
     },
     "execution_count": 239,
     "metadata": {},
     "output_type": "execute_result"
    }
   ],
   "source": [
    "group_6"
   ]
  },
  {
   "cell_type": "code",
   "execution_count": 245,
   "id": "4e7ab137-4922-408f-b565-f8c838bfb839",
   "metadata": {},
   "outputs": [],
   "source": [
    "pivot_table_crops = pd.pivot_table(group_6,values= \"Production\",index= \"Crop\",columns= \"Season\",aggfunc=\"sum\",fill_value=0)"
   ]
  },
  {
   "cell_type": "code",
   "execution_count": 273,
   "id": "883c275c-f08a-42a6-9204-db43da21bd76",
   "metadata": {},
   "outputs": [
    {
     "data": {
      "text/plain": [
       "Index(['Autumn     ', 'Kharif     ', 'Rabi       ', 'Summer     ',\n",
       "       'Whole Year ', 'Winter     '],\n",
       "      dtype='object', name='Season')"
      ]
     },
     "execution_count": 273,
     "metadata": {},
     "output_type": "execute_result"
    }
   ],
   "source": [
    "pivot_table_crops.columns"
   ]
  },
  {
   "cell_type": "code",
   "execution_count": 275,
   "id": "7a7c456e-58a4-4561-9ce1-880035947c51",
   "metadata": {},
   "outputs": [],
   "source": [
    "sorted_df_pivot = pivot_table_crops.sort_values(by=['Autumn     '], ascending=False)"
   ]
  },
  {
   "cell_type": "code",
   "execution_count": 277,
   "id": "b5eca4d6-5827-4dbe-8cca-ee0d4eb53a0e",
   "metadata": {},
   "outputs": [
    {
     "data": {
      "text/html": [
       "<div>\n",
       "<style scoped>\n",
       "    .dataframe tbody tr th:only-of-type {\n",
       "        vertical-align: middle;\n",
       "    }\n",
       "\n",
       "    .dataframe tbody tr th {\n",
       "        vertical-align: top;\n",
       "    }\n",
       "\n",
       "    .dataframe thead th {\n",
       "        text-align: right;\n",
       "    }\n",
       "</style>\n",
       "<table border=\"1\" class=\"dataframe\">\n",
       "  <thead>\n",
       "    <tr style=\"text-align: right;\">\n",
       "      <th>Season</th>\n",
       "      <th>Autumn</th>\n",
       "      <th>Kharif</th>\n",
       "      <th>Rabi</th>\n",
       "      <th>Summer</th>\n",
       "      <th>Whole Year</th>\n",
       "      <th>Winter</th>\n",
       "    </tr>\n",
       "    <tr>\n",
       "      <th>Crop</th>\n",
       "      <th></th>\n",
       "      <th></th>\n",
       "      <th></th>\n",
       "      <th></th>\n",
       "      <th></th>\n",
       "      <th></th>\n",
       "    </tr>\n",
       "  </thead>\n",
       "  <tbody>\n",
       "    <tr>\n",
       "      <th>Rice</th>\n",
       "      <td>53601263</td>\n",
       "      <td>949811635</td>\n",
       "      <td>84703836</td>\n",
       "      <td>130032786</td>\n",
       "      <td>18566447</td>\n",
       "      <td>381569484</td>\n",
       "    </tr>\n",
       "    <tr>\n",
       "      <th>Maize</th>\n",
       "      <td>9515536</td>\n",
       "      <td>283922891</td>\n",
       "      <td>49642862</td>\n",
       "      <td>15089217</td>\n",
       "      <td>7735142</td>\n",
       "      <td>636633</td>\n",
       "    </tr>\n",
       "    <tr>\n",
       "      <th>Sesamum</th>\n",
       "      <td>2930939</td>\n",
       "      <td>115981493</td>\n",
       "      <td>10760442</td>\n",
       "      <td>3588152</td>\n",
       "      <td>7552764</td>\n",
       "      <td>1258406</td>\n",
       "    </tr>\n",
       "    <tr>\n",
       "      <th>Ragi</th>\n",
       "      <td>2826934</td>\n",
       "      <td>42794095</td>\n",
       "      <td>1335685</td>\n",
       "      <td>1462265</td>\n",
       "      <td>2669554</td>\n",
       "      <td>935459</td>\n",
       "    </tr>\n",
       "    <tr>\n",
       "      <th>Paddy</th>\n",
       "      <td>2034745</td>\n",
       "      <td>5075127</td>\n",
       "      <td>163930</td>\n",
       "      <td>5110559</td>\n",
       "      <td>0</td>\n",
       "      <td>19318040</td>\n",
       "    </tr>\n",
       "    <tr>\n",
       "      <th>...</th>\n",
       "      <td>...</td>\n",
       "      <td>...</td>\n",
       "      <td>...</td>\n",
       "      <td>...</td>\n",
       "      <td>...</td>\n",
       "      <td>...</td>\n",
       "    </tr>\n",
       "    <tr>\n",
       "      <th>Garlic</th>\n",
       "      <td>0</td>\n",
       "      <td>33810</td>\n",
       "      <td>1366826</td>\n",
       "      <td>0</td>\n",
       "      <td>44668330</td>\n",
       "      <td>0</td>\n",
       "    </tr>\n",
       "    <tr>\n",
       "      <th>Drum Stick</th>\n",
       "      <td>0</td>\n",
       "      <td>0</td>\n",
       "      <td>0</td>\n",
       "      <td>0</td>\n",
       "      <td>77121</td>\n",
       "      <td>0</td>\n",
       "    </tr>\n",
       "    <tr>\n",
       "      <th>Cucumber</th>\n",
       "      <td>0</td>\n",
       "      <td>0</td>\n",
       "      <td>0</td>\n",
       "      <td>0</td>\n",
       "      <td>0</td>\n",
       "      <td>0</td>\n",
       "    </tr>\n",
       "    <tr>\n",
       "      <th>Cowpea(Lobia)</th>\n",
       "      <td>0</td>\n",
       "      <td>1896756</td>\n",
       "      <td>1830611</td>\n",
       "      <td>1173295</td>\n",
       "      <td>19805102</td>\n",
       "      <td>0</td>\n",
       "    </tr>\n",
       "    <tr>\n",
       "      <th>other oilseeds</th>\n",
       "      <td>0</td>\n",
       "      <td>9648573</td>\n",
       "      <td>17487115</td>\n",
       "      <td>0</td>\n",
       "      <td>351836</td>\n",
       "      <td>0</td>\n",
       "    </tr>\n",
       "  </tbody>\n",
       "</table>\n",
       "<p>124 rows × 6 columns</p>\n",
       "</div>"
      ],
      "text/plain": [
       "Season          Autumn       Kharif       Rabi         Summer       \\\n",
       "Crop                                                                 \n",
       "Rice               53601263    949811635     84703836    130032786   \n",
       "Maize               9515536    283922891     49642862     15089217   \n",
       "Sesamum             2930939    115981493     10760442      3588152   \n",
       "Ragi                2826934     42794095      1335685      1462265   \n",
       "Paddy               2034745      5075127       163930      5110559   \n",
       "...                     ...          ...          ...          ...   \n",
       "Garlic                    0        33810      1366826            0   \n",
       "Drum Stick                0            0            0            0   \n",
       "Cucumber                  0            0            0            0   \n",
       "Cowpea(Lobia)             0      1896756      1830611      1173295   \n",
       "other oilseeds            0      9648573     17487115            0   \n",
       "\n",
       "Season          Whole Year   Winter       \n",
       "Crop                                      \n",
       "Rice               18566447    381569484  \n",
       "Maize               7735142       636633  \n",
       "Sesamum             7552764      1258406  \n",
       "Ragi                2669554       935459  \n",
       "Paddy                     0     19318040  \n",
       "...                     ...          ...  \n",
       "Garlic             44668330            0  \n",
       "Drum Stick            77121            0  \n",
       "Cucumber                  0            0  \n",
       "Cowpea(Lobia)      19805102            0  \n",
       "other oilseeds       351836            0  \n",
       "\n",
       "[124 rows x 6 columns]"
      ]
     },
     "execution_count": 277,
     "metadata": {},
     "output_type": "execute_result"
    }
   ],
   "source": [
    "sorted_df_pivot"
   ]
  },
  {
   "cell_type": "markdown",
   "id": "3cdd5df7-84e0-4944-9bc7-d1c6a79431ba",
   "metadata": {},
   "source": [
    "So as per the data Rice is the crop type that produces highest in the autumn season"
   ]
  },
  {
   "cell_type": "code",
   "execution_count": 280,
   "id": "368b595c-a798-4e26-a520-683992c55e23",
   "metadata": {},
   "outputs": [],
   "source": [
    "sorted_df_pivot = pivot_table_crops.sort_values(by=['Kharif     '], ascending=False)"
   ]
  },
  {
   "cell_type": "code",
   "execution_count": 282,
   "id": "0b8cb1b8-e26e-4407-8aca-7b6e9b645ea9",
   "metadata": {},
   "outputs": [
    {
     "data": {
      "text/html": [
       "<div>\n",
       "<style scoped>\n",
       "    .dataframe tbody tr th:only-of-type {\n",
       "        vertical-align: middle;\n",
       "    }\n",
       "\n",
       "    .dataframe tbody tr th {\n",
       "        vertical-align: top;\n",
       "    }\n",
       "\n",
       "    .dataframe thead th {\n",
       "        text-align: right;\n",
       "    }\n",
       "</style>\n",
       "<table border=\"1\" class=\"dataframe\">\n",
       "  <thead>\n",
       "    <tr style=\"text-align: right;\">\n",
       "      <th>Season</th>\n",
       "      <th>Autumn</th>\n",
       "      <th>Kharif</th>\n",
       "      <th>Rabi</th>\n",
       "      <th>Summer</th>\n",
       "      <th>Whole Year</th>\n",
       "      <th>Winter</th>\n",
       "    </tr>\n",
       "    <tr>\n",
       "      <th>Crop</th>\n",
       "      <th></th>\n",
       "      <th></th>\n",
       "      <th></th>\n",
       "      <th></th>\n",
       "      <th></th>\n",
       "      <th></th>\n",
       "    </tr>\n",
       "  </thead>\n",
       "  <tbody>\n",
       "    <tr>\n",
       "      <th>Sugarcane</th>\n",
       "      <td>13743</td>\n",
       "      <td>1774444484</td>\n",
       "      <td>27716</td>\n",
       "      <td>4900</td>\n",
       "      <td>3799928728</td>\n",
       "      <td>16017237</td>\n",
       "    </tr>\n",
       "    <tr>\n",
       "      <th>Rice</th>\n",
       "      <td>53601263</td>\n",
       "      <td>949811635</td>\n",
       "      <td>84703836</td>\n",
       "      <td>130032786</td>\n",
       "      <td>18566447</td>\n",
       "      <td>381569484</td>\n",
       "    </tr>\n",
       "    <tr>\n",
       "      <th>Cotton(lint)</th>\n",
       "      <td>20</td>\n",
       "      <td>357384627</td>\n",
       "      <td>725609</td>\n",
       "      <td>17190</td>\n",
       "      <td>18092967</td>\n",
       "      <td>10</td>\n",
       "    </tr>\n",
       "    <tr>\n",
       "      <th>Maize</th>\n",
       "      <td>9515536</td>\n",
       "      <td>283922891</td>\n",
       "      <td>49642862</td>\n",
       "      <td>15089217</td>\n",
       "      <td>7735142</td>\n",
       "      <td>636633</td>\n",
       "    </tr>\n",
       "    <tr>\n",
       "      <th>Jute</th>\n",
       "      <td>441559</td>\n",
       "      <td>203798911</td>\n",
       "      <td>3530322</td>\n",
       "      <td>20</td>\n",
       "      <td>0</td>\n",
       "      <td>0</td>\n",
       "    </tr>\n",
       "    <tr>\n",
       "      <th>...</th>\n",
       "      <td>...</td>\n",
       "      <td>...</td>\n",
       "      <td>...</td>\n",
       "      <td>...</td>\n",
       "      <td>...</td>\n",
       "      <td>...</td>\n",
       "    </tr>\n",
       "    <tr>\n",
       "      <th>Plums</th>\n",
       "      <td>0</td>\n",
       "      <td>0</td>\n",
       "      <td>0</td>\n",
       "      <td>0</td>\n",
       "      <td>0</td>\n",
       "      <td>0</td>\n",
       "    </tr>\n",
       "    <tr>\n",
       "      <th>Pome Fruit</th>\n",
       "      <td>0</td>\n",
       "      <td>0</td>\n",
       "      <td>0</td>\n",
       "      <td>0</td>\n",
       "      <td>481340</td>\n",
       "      <td>0</td>\n",
       "    </tr>\n",
       "    <tr>\n",
       "      <th>Pump Kin</th>\n",
       "      <td>0</td>\n",
       "      <td>0</td>\n",
       "      <td>0</td>\n",
       "      <td>0</td>\n",
       "      <td>24465126</td>\n",
       "      <td>0</td>\n",
       "    </tr>\n",
       "    <tr>\n",
       "      <th>Bhindi</th>\n",
       "      <td>0</td>\n",
       "      <td>0</td>\n",
       "      <td>0</td>\n",
       "      <td>0</td>\n",
       "      <td>317077</td>\n",
       "      <td>0</td>\n",
       "    </tr>\n",
       "    <tr>\n",
       "      <th>Apple</th>\n",
       "      <td>0</td>\n",
       "      <td>0</td>\n",
       "      <td>0</td>\n",
       "      <td>0</td>\n",
       "      <td>0</td>\n",
       "      <td>0</td>\n",
       "    </tr>\n",
       "  </tbody>\n",
       "</table>\n",
       "<p>124 rows × 6 columns</p>\n",
       "</div>"
      ],
      "text/plain": [
       "Season        Autumn       Kharif       Rabi         Summer       Whole Year   \\\n",
       "Crop                                                                            \n",
       "Sugarcane           13743   1774444484        27716         4900   3799928728   \n",
       "Rice             53601263    949811635     84703836    130032786     18566447   \n",
       "Cotton(lint)           20    357384627       725609        17190     18092967   \n",
       "Maize             9515536    283922891     49642862     15089217      7735142   \n",
       "Jute               441559    203798911      3530322           20            0   \n",
       "...                   ...          ...          ...          ...          ...   \n",
       "Plums                   0            0            0            0            0   \n",
       "Pome Fruit              0            0            0            0       481340   \n",
       "Pump Kin                0            0            0            0     24465126   \n",
       "Bhindi                  0            0            0            0       317077   \n",
       "Apple                   0            0            0            0            0   \n",
       "\n",
       "Season        Winter       \n",
       "Crop                       \n",
       "Sugarcane        16017237  \n",
       "Rice            381569484  \n",
       "Cotton(lint)           10  \n",
       "Maize              636633  \n",
       "Jute                    0  \n",
       "...                   ...  \n",
       "Plums                   0  \n",
       "Pome Fruit              0  \n",
       "Pump Kin                0  \n",
       "Bhindi                  0  \n",
       "Apple                   0  \n",
       "\n",
       "[124 rows x 6 columns]"
      ]
     },
     "execution_count": 282,
     "metadata": {},
     "output_type": "execute_result"
    }
   ],
   "source": [
    "sorted_df_pivot"
   ]
  },
  {
   "cell_type": "markdown",
   "id": "1cc823d6-7c06-4c38-bc6d-b1a5b8728368",
   "metadata": {},
   "source": [
    "So as per the above Sugarcane is the crop type that produces most in the kharif season"
   ]
  },
  {
   "cell_type": "code",
   "execution_count": 288,
   "id": "c3994924-7bc9-4b07-b548-2818329c0dd1",
   "metadata": {},
   "outputs": [
    {
     "data": {
      "text/html": [
       "<div>\n",
       "<style scoped>\n",
       "    .dataframe tbody tr th:only-of-type {\n",
       "        vertical-align: middle;\n",
       "    }\n",
       "\n",
       "    .dataframe tbody tr th {\n",
       "        vertical-align: top;\n",
       "    }\n",
       "\n",
       "    .dataframe thead th {\n",
       "        text-align: right;\n",
       "    }\n",
       "</style>\n",
       "<table border=\"1\" class=\"dataframe\">\n",
       "  <thead>\n",
       "    <tr style=\"text-align: right;\">\n",
       "      <th>Season</th>\n",
       "      <th>Autumn</th>\n",
       "      <th>Kharif</th>\n",
       "      <th>Rabi</th>\n",
       "      <th>Summer</th>\n",
       "      <th>Whole Year</th>\n",
       "      <th>Winter</th>\n",
       "    </tr>\n",
       "    <tr>\n",
       "      <th>Crop</th>\n",
       "      <th></th>\n",
       "      <th></th>\n",
       "      <th></th>\n",
       "      <th></th>\n",
       "      <th></th>\n",
       "      <th></th>\n",
       "    </tr>\n",
       "  </thead>\n",
       "  <tbody>\n",
       "    <tr>\n",
       "      <th>Wheat</th>\n",
       "      <td>0</td>\n",
       "      <td>2330074</td>\n",
       "      <td>1333210178</td>\n",
       "      <td>52687</td>\n",
       "      <td>9448133</td>\n",
       "      <td>17134</td>\n",
       "    </tr>\n",
       "    <tr>\n",
       "      <th>Potato</th>\n",
       "      <td>1670</td>\n",
       "      <td>7364495</td>\n",
       "      <td>205182096</td>\n",
       "      <td>586412</td>\n",
       "      <td>205491480</td>\n",
       "      <td>16102738</td>\n",
       "    </tr>\n",
       "    <tr>\n",
       "      <th>Gram</th>\n",
       "      <td>0</td>\n",
       "      <td>420286</td>\n",
       "      <td>170883499</td>\n",
       "      <td>0</td>\n",
       "      <td>6163536</td>\n",
       "      <td>2317</td>\n",
       "    </tr>\n",
       "    <tr>\n",
       "      <th>Rapeseed &amp;Mustard</th>\n",
       "      <td>0</td>\n",
       "      <td>2920580</td>\n",
       "      <td>115979961</td>\n",
       "      <td>0</td>\n",
       "      <td>6298944</td>\n",
       "      <td>37443</td>\n",
       "    </tr>\n",
       "    <tr>\n",
       "      <th>Rice</th>\n",
       "      <td>53601263</td>\n",
       "      <td>949811635</td>\n",
       "      <td>84703836</td>\n",
       "      <td>130032786</td>\n",
       "      <td>18566447</td>\n",
       "      <td>381569484</td>\n",
       "    </tr>\n",
       "    <tr>\n",
       "      <th>...</th>\n",
       "      <td>...</td>\n",
       "      <td>...</td>\n",
       "      <td>...</td>\n",
       "      <td>...</td>\n",
       "      <td>...</td>\n",
       "      <td>...</td>\n",
       "    </tr>\n",
       "    <tr>\n",
       "      <th>Cucumber</th>\n",
       "      <td>0</td>\n",
       "      <td>0</td>\n",
       "      <td>0</td>\n",
       "      <td>0</td>\n",
       "      <td>0</td>\n",
       "      <td>0</td>\n",
       "    </tr>\n",
       "    <tr>\n",
       "      <th>Pump Kin</th>\n",
       "      <td>0</td>\n",
       "      <td>0</td>\n",
       "      <td>0</td>\n",
       "      <td>0</td>\n",
       "      <td>24465126</td>\n",
       "      <td>0</td>\n",
       "    </tr>\n",
       "    <tr>\n",
       "      <th>Colocosia</th>\n",
       "      <td>0</td>\n",
       "      <td>49840</td>\n",
       "      <td>0</td>\n",
       "      <td>0</td>\n",
       "      <td>0</td>\n",
       "      <td>0</td>\n",
       "    </tr>\n",
       "    <tr>\n",
       "      <th>Coffee</th>\n",
       "      <td>0</td>\n",
       "      <td>0</td>\n",
       "      <td>0</td>\n",
       "      <td>0</td>\n",
       "      <td>130012</td>\n",
       "      <td>0</td>\n",
       "    </tr>\n",
       "    <tr>\n",
       "      <th>Apple</th>\n",
       "      <td>0</td>\n",
       "      <td>0</td>\n",
       "      <td>0</td>\n",
       "      <td>0</td>\n",
       "      <td>0</td>\n",
       "      <td>0</td>\n",
       "    </tr>\n",
       "  </tbody>\n",
       "</table>\n",
       "<p>124 rows × 6 columns</p>\n",
       "</div>"
      ],
      "text/plain": [
       "Season             Autumn       Kharif       Rabi         Summer       \\\n",
       "Crop                                                                    \n",
       "Wheat                        0      2330074   1333210178        52687   \n",
       "Potato                    1670      7364495    205182096       586412   \n",
       "Gram                         0       420286    170883499            0   \n",
       "Rapeseed &Mustard            0      2920580    115979961            0   \n",
       "Rice                  53601263    949811635     84703836    130032786   \n",
       "...                        ...          ...          ...          ...   \n",
       "Cucumber                     0            0            0            0   \n",
       "Pump Kin                     0            0            0            0   \n",
       "Colocosia                    0        49840            0            0   \n",
       "Coffee                       0            0            0            0   \n",
       "Apple                        0            0            0            0   \n",
       "\n",
       "Season             Whole Year   Winter       \n",
       "Crop                                         \n",
       "Wheat                  9448133        17134  \n",
       "Potato               205491480     16102738  \n",
       "Gram                   6163536         2317  \n",
       "Rapeseed &Mustard      6298944        37443  \n",
       "Rice                  18566447    381569484  \n",
       "...                        ...          ...  \n",
       "Cucumber                     0            0  \n",
       "Pump Kin              24465126            0  \n",
       "Colocosia                    0            0  \n",
       "Coffee                  130012            0  \n",
       "Apple                        0            0  \n",
       "\n",
       "[124 rows x 6 columns]"
      ]
     },
     "execution_count": 288,
     "metadata": {},
     "output_type": "execute_result"
    }
   ],
   "source": [
    "sorted_df_pivot = pivot_table_crops.sort_values(by=['Rabi       '], ascending=False)\n",
    "sorted_df_pivot"
   ]
  },
  {
   "cell_type": "markdown",
   "id": "dea2bf91-9a39-496f-97c0-8dbb440cefa3",
   "metadata": {},
   "source": [
    "Wheat is the highest for Rabi Season"
   ]
  },
  {
   "cell_type": "code",
   "execution_count": 291,
   "id": "2b0952fc-6730-4193-9b97-b72554785b9b",
   "metadata": {},
   "outputs": [
    {
     "data": {
      "text/html": [
       "<div>\n",
       "<style scoped>\n",
       "    .dataframe tbody tr th:only-of-type {\n",
       "        vertical-align: middle;\n",
       "    }\n",
       "\n",
       "    .dataframe tbody tr th {\n",
       "        vertical-align: top;\n",
       "    }\n",
       "\n",
       "    .dataframe thead th {\n",
       "        text-align: right;\n",
       "    }\n",
       "</style>\n",
       "<table border=\"1\" class=\"dataframe\">\n",
       "  <thead>\n",
       "    <tr style=\"text-align: right;\">\n",
       "      <th>Season</th>\n",
       "      <th>Autumn</th>\n",
       "      <th>Kharif</th>\n",
       "      <th>Rabi</th>\n",
       "      <th>Summer</th>\n",
       "      <th>Whole Year</th>\n",
       "      <th>Winter</th>\n",
       "    </tr>\n",
       "    <tr>\n",
       "      <th>Crop</th>\n",
       "      <th></th>\n",
       "      <th></th>\n",
       "      <th></th>\n",
       "      <th></th>\n",
       "      <th></th>\n",
       "      <th></th>\n",
       "    </tr>\n",
       "  </thead>\n",
       "  <tbody>\n",
       "    <tr>\n",
       "      <th>Rice</th>\n",
       "      <td>53601263</td>\n",
       "      <td>949811635</td>\n",
       "      <td>84703836</td>\n",
       "      <td>130032786</td>\n",
       "      <td>18566447</td>\n",
       "      <td>381569484</td>\n",
       "    </tr>\n",
       "    <tr>\n",
       "      <th>Maize</th>\n",
       "      <td>9515536</td>\n",
       "      <td>283922891</td>\n",
       "      <td>49642862</td>\n",
       "      <td>15089217</td>\n",
       "      <td>7735142</td>\n",
       "      <td>636633</td>\n",
       "    </tr>\n",
       "    <tr>\n",
       "      <th>Bajra</th>\n",
       "      <td>0</td>\n",
       "      <td>145598582</td>\n",
       "      <td>1418695</td>\n",
       "      <td>7436768</td>\n",
       "      <td>3187095</td>\n",
       "      <td>0</td>\n",
       "    </tr>\n",
       "    <tr>\n",
       "      <th>Groundnut</th>\n",
       "      <td>386678</td>\n",
       "      <td>122112949</td>\n",
       "      <td>11990248</td>\n",
       "      <td>7410398</td>\n",
       "      <td>7076106</td>\n",
       "      <td>48690</td>\n",
       "    </tr>\n",
       "    <tr>\n",
       "      <th>Moong(Green Gram)</th>\n",
       "      <td>1235296</td>\n",
       "      <td>93740708</td>\n",
       "      <td>22798308</td>\n",
       "      <td>5345598</td>\n",
       "      <td>16667988</td>\n",
       "      <td>2005917</td>\n",
       "    </tr>\n",
       "    <tr>\n",
       "      <th>...</th>\n",
       "      <td>...</td>\n",
       "      <td>...</td>\n",
       "      <td>...</td>\n",
       "      <td>...</td>\n",
       "      <td>...</td>\n",
       "      <td>...</td>\n",
       "    </tr>\n",
       "    <tr>\n",
       "      <th>Ginger</th>\n",
       "      <td>0</td>\n",
       "      <td>198376</td>\n",
       "      <td>518077</td>\n",
       "      <td>0</td>\n",
       "      <td>105473</td>\n",
       "      <td>0</td>\n",
       "    </tr>\n",
       "    <tr>\n",
       "      <th>Garlic</th>\n",
       "      <td>0</td>\n",
       "      <td>33810</td>\n",
       "      <td>1366826</td>\n",
       "      <td>0</td>\n",
       "      <td>44668330</td>\n",
       "      <td>0</td>\n",
       "    </tr>\n",
       "    <tr>\n",
       "      <th>Drum Stick</th>\n",
       "      <td>0</td>\n",
       "      <td>0</td>\n",
       "      <td>0</td>\n",
       "      <td>0</td>\n",
       "      <td>77121</td>\n",
       "      <td>0</td>\n",
       "    </tr>\n",
       "    <tr>\n",
       "      <th>Cucumber</th>\n",
       "      <td>0</td>\n",
       "      <td>0</td>\n",
       "      <td>0</td>\n",
       "      <td>0</td>\n",
       "      <td>0</td>\n",
       "      <td>0</td>\n",
       "    </tr>\n",
       "    <tr>\n",
       "      <th>other oilseeds</th>\n",
       "      <td>0</td>\n",
       "      <td>9648573</td>\n",
       "      <td>17487115</td>\n",
       "      <td>0</td>\n",
       "      <td>351836</td>\n",
       "      <td>0</td>\n",
       "    </tr>\n",
       "  </tbody>\n",
       "</table>\n",
       "<p>124 rows × 6 columns</p>\n",
       "</div>"
      ],
      "text/plain": [
       "Season             Autumn       Kharif       Rabi         Summer       \\\n",
       "Crop                                                                    \n",
       "Rice                  53601263    949811635     84703836    130032786   \n",
       "Maize                  9515536    283922891     49642862     15089217   \n",
       "Bajra                        0    145598582      1418695      7436768   \n",
       "Groundnut               386678    122112949     11990248      7410398   \n",
       "Moong(Green Gram)      1235296     93740708     22798308      5345598   \n",
       "...                        ...          ...          ...          ...   \n",
       "Ginger                       0       198376       518077            0   \n",
       "Garlic                       0        33810      1366826            0   \n",
       "Drum Stick                   0            0            0            0   \n",
       "Cucumber                     0            0            0            0   \n",
       "other oilseeds               0      9648573     17487115            0   \n",
       "\n",
       "Season             Whole Year   Winter       \n",
       "Crop                                         \n",
       "Rice                  18566447    381569484  \n",
       "Maize                  7735142       636633  \n",
       "Bajra                  3187095            0  \n",
       "Groundnut              7076106        48690  \n",
       "Moong(Green Gram)     16667988      2005917  \n",
       "...                        ...          ...  \n",
       "Ginger                  105473            0  \n",
       "Garlic                44668330            0  \n",
       "Drum Stick               77121            0  \n",
       "Cucumber                     0            0  \n",
       "other oilseeds          351836            0  \n",
       "\n",
       "[124 rows x 6 columns]"
      ]
     },
     "execution_count": 291,
     "metadata": {},
     "output_type": "execute_result"
    }
   ],
   "source": [
    "sorted_df_pivot = pivot_table_crops.sort_values(by=['Summer     '], ascending=False)\n",
    "sorted_df_pivot"
   ]
  },
  {
   "cell_type": "markdown",
   "id": "3f50d458-3fce-4568-964b-05d72d998187",
   "metadata": {},
   "source": [
    "Rice is the highest for summer season we all see its also highest for autumn season"
   ]
  },
  {
   "cell_type": "code",
   "execution_count": 294,
   "id": "7a6f10ba-00d5-4b92-985f-47be4ba90882",
   "metadata": {},
   "outputs": [
    {
     "data": {
      "text/html": [
       "<div>\n",
       "<style scoped>\n",
       "    .dataframe tbody tr th:only-of-type {\n",
       "        vertical-align: middle;\n",
       "    }\n",
       "\n",
       "    .dataframe tbody tr th {\n",
       "        vertical-align: top;\n",
       "    }\n",
       "\n",
       "    .dataframe thead th {\n",
       "        text-align: right;\n",
       "    }\n",
       "</style>\n",
       "<table border=\"1\" class=\"dataframe\">\n",
       "  <thead>\n",
       "    <tr style=\"text-align: right;\">\n",
       "      <th>Season</th>\n",
       "      <th>Autumn</th>\n",
       "      <th>Kharif</th>\n",
       "      <th>Rabi</th>\n",
       "      <th>Summer</th>\n",
       "      <th>Whole Year</th>\n",
       "      <th>Winter</th>\n",
       "    </tr>\n",
       "    <tr>\n",
       "      <th>Crop</th>\n",
       "      <th></th>\n",
       "      <th></th>\n",
       "      <th></th>\n",
       "      <th></th>\n",
       "      <th></th>\n",
       "      <th></th>\n",
       "    </tr>\n",
       "  </thead>\n",
       "  <tbody>\n",
       "    <tr>\n",
       "      <th>Rice</th>\n",
       "      <td>53601263</td>\n",
       "      <td>949811635</td>\n",
       "      <td>84703836</td>\n",
       "      <td>130032786</td>\n",
       "      <td>18566447</td>\n",
       "      <td>381569484</td>\n",
       "    </tr>\n",
       "    <tr>\n",
       "      <th>Paddy</th>\n",
       "      <td>2034745</td>\n",
       "      <td>5075127</td>\n",
       "      <td>163930</td>\n",
       "      <td>5110559</td>\n",
       "      <td>0</td>\n",
       "      <td>19318040</td>\n",
       "    </tr>\n",
       "    <tr>\n",
       "      <th>Potato</th>\n",
       "      <td>1670</td>\n",
       "      <td>7364495</td>\n",
       "      <td>205182096</td>\n",
       "      <td>586412</td>\n",
       "      <td>205491480</td>\n",
       "      <td>16102738</td>\n",
       "    </tr>\n",
       "    <tr>\n",
       "      <th>Sugarcane</th>\n",
       "      <td>13743</td>\n",
       "      <td>1774444484</td>\n",
       "      <td>27716</td>\n",
       "      <td>4900</td>\n",
       "      <td>3799928728</td>\n",
       "      <td>16017237</td>\n",
       "    </tr>\n",
       "    <tr>\n",
       "      <th>Moong(Green Gram)</th>\n",
       "      <td>1235296</td>\n",
       "      <td>93740708</td>\n",
       "      <td>22798308</td>\n",
       "      <td>5345598</td>\n",
       "      <td>16667988</td>\n",
       "      <td>2005917</td>\n",
       "    </tr>\n",
       "    <tr>\n",
       "      <th>...</th>\n",
       "      <td>...</td>\n",
       "      <td>...</td>\n",
       "      <td>...</td>\n",
       "      <td>...</td>\n",
       "      <td>...</td>\n",
       "      <td>...</td>\n",
       "    </tr>\n",
       "    <tr>\n",
       "      <th>Garlic</th>\n",
       "      <td>0</td>\n",
       "      <td>33810</td>\n",
       "      <td>1366826</td>\n",
       "      <td>0</td>\n",
       "      <td>44668330</td>\n",
       "      <td>0</td>\n",
       "    </tr>\n",
       "    <tr>\n",
       "      <th>Drum Stick</th>\n",
       "      <td>0</td>\n",
       "      <td>0</td>\n",
       "      <td>0</td>\n",
       "      <td>0</td>\n",
       "      <td>77121</td>\n",
       "      <td>0</td>\n",
       "    </tr>\n",
       "    <tr>\n",
       "      <th>Cucumber</th>\n",
       "      <td>0</td>\n",
       "      <td>0</td>\n",
       "      <td>0</td>\n",
       "      <td>0</td>\n",
       "      <td>0</td>\n",
       "      <td>0</td>\n",
       "    </tr>\n",
       "    <tr>\n",
       "      <th>Cowpea(Lobia)</th>\n",
       "      <td>0</td>\n",
       "      <td>1896756</td>\n",
       "      <td>1830611</td>\n",
       "      <td>1173295</td>\n",
       "      <td>19805102</td>\n",
       "      <td>0</td>\n",
       "    </tr>\n",
       "    <tr>\n",
       "      <th>other oilseeds</th>\n",
       "      <td>0</td>\n",
       "      <td>9648573</td>\n",
       "      <td>17487115</td>\n",
       "      <td>0</td>\n",
       "      <td>351836</td>\n",
       "      <td>0</td>\n",
       "    </tr>\n",
       "  </tbody>\n",
       "</table>\n",
       "<p>124 rows × 6 columns</p>\n",
       "</div>"
      ],
      "text/plain": [
       "Season             Autumn       Kharif       Rabi         Summer       \\\n",
       "Crop                                                                    \n",
       "Rice                  53601263    949811635     84703836    130032786   \n",
       "Paddy                  2034745      5075127       163930      5110559   \n",
       "Potato                    1670      7364495    205182096       586412   \n",
       "Sugarcane                13743   1774444484        27716         4900   \n",
       "Moong(Green Gram)      1235296     93740708     22798308      5345598   \n",
       "...                        ...          ...          ...          ...   \n",
       "Garlic                       0        33810      1366826            0   \n",
       "Drum Stick                   0            0            0            0   \n",
       "Cucumber                     0            0            0            0   \n",
       "Cowpea(Lobia)                0      1896756      1830611      1173295   \n",
       "other oilseeds               0      9648573     17487115            0   \n",
       "\n",
       "Season             Whole Year   Winter       \n",
       "Crop                                         \n",
       "Rice                  18566447    381569484  \n",
       "Paddy                        0     19318040  \n",
       "Potato               205491480     16102738  \n",
       "Sugarcane           3799928728     16017237  \n",
       "Moong(Green Gram)     16667988      2005917  \n",
       "...                        ...          ...  \n",
       "Garlic                44668330            0  \n",
       "Drum Stick               77121            0  \n",
       "Cucumber                     0            0  \n",
       "Cowpea(Lobia)         19805102            0  \n",
       "other oilseeds          351836            0  \n",
       "\n",
       "[124 rows x 6 columns]"
      ]
     },
     "execution_count": 294,
     "metadata": {},
     "output_type": "execute_result"
    }
   ],
   "source": [
    "sorted_df_pivot = pivot_table_crops.sort_values(by=['Winter     '], ascending=False)\n",
    "sorted_df_pivot"
   ]
  },
  {
   "cell_type": "markdown",
   "id": "a9f5b964-5ff7-4c97-98e4-371b0205d790",
   "metadata": {},
   "source": [
    "Rice is the same highest for winter season as well and coconut for whole year"
   ]
  },
  {
   "cell_type": "code",
   "execution_count": 297,
   "id": "a129b64e-2cd9-4abf-8ac0-77b7c7804678",
   "metadata": {},
   "outputs": [
    {
     "data": {
      "text/plain": [
       "Index(['State_Name', 'District_Name', 'Crop_Year', 'Season', 'Crop', 'Area',\n",
       "       'Production', 'Production/Area'],\n",
       "      dtype='object')"
      ]
     },
     "execution_count": 297,
     "metadata": {},
     "output_type": "execute_result"
    }
   ],
   "source": [
    "crop_data.columns"
   ]
  },
  {
   "cell_type": "code",
   "execution_count": 303,
   "id": "bc0384de-66d7-4067-bb94-e025cd1e164a",
   "metadata": {},
   "outputs": [
    {
     "data": {
      "image/png": "[encoded data removed]",
      "text/plain": [
       "<Figure size 640x480 with 2 Axes>"
      ]
     },
     "metadata": {},
     "output_type": "display_data"
    }
   ],
   "source": [
    "dataplot = sns.heatmap(crop_data.corr(numeric_only=True),vmin=0,vmax=0.5, cmap=\"YlGnBu\", annot=True)"
   ]
  },
  {
   "cell_type": "markdown",
   "id": "ff25e823-282c-444f-b22c-bf4505a3f2b9",
   "metadata": {},
   "source": [
    "# Conversion of String values into numeric for machine learning models"
   ]
  },
  {
   "cell_type": "code",
   "execution_count": 325,
   "id": "6b278eac-46e7-4f5e-a414-495c0bcc3ab2",
   "metadata": {},
   "outputs": [],
   "source": [
    "starting_value = 0\n",
    "for x in crop_data[\"State_Name\"].unique():\n",
    "    crop_data = crop_data.replace(to_replace=x,value=starting_value)\n",
    "    starting_value = starting_value+1"
   ]
  },
  {
   "cell_type": "code",
   "execution_count": 327,
   "id": "3c064e2a-408d-4487-844a-96e00349023b",
   "metadata": {},
   "outputs": [
    {
     "data": {
      "text/plain": [
       "array([ 0,  1,  2,  3,  4,  5,  6,  7,  8,  9, 10, 11, 12, 13, 14, 15, 16,\n",
       "       17, 18, 19, 20, 21, 22, 23, 24, 25, 26, 27, 28, 29, 30, 31, 32],\n",
       "      dtype=int64)"
      ]
     },
     "execution_count": 327,
     "metadata": {},
     "output_type": "execute_result"
    }
   ],
   "source": [
    "crop_data[\"State_Name\"].unique()"
   ]
  },
  {
   "cell_type": "code",
   "execution_count": 330,
   "id": "dfca57a0-d742-4938-9c80-9eaf5251af01",
   "metadata": {},
   "outputs": [],
   "source": [
    "starting_value = 0\n",
    "for x in crop_data[\"District_Name\"].unique():\n",
    "    crop_data = crop_data.replace(to_replace=x,value=starting_value)\n",
    "    starting_value = starting_value+1"
   ]
  },
  {
   "cell_type": "code",
   "execution_count": 332,
   "id": "c504d6b1-90d2-426e-bdd0-37a851a08287",
   "metadata": {},
   "outputs": [
    {
     "data": {
      "text/plain": [
       "array([  0,   1,   2,   3,   4,   5,   6,   7,   8,   9,  10,  11,  12,\n",
       "        13,  14,  15,  16,  17,  18,  19,  20,  21,  22,  23,  24,  25,\n",
       "        26,  27,  28,  29,  30,  31,  32,  33,  34,  35,  36,  37,  38,\n",
       "        39,  40,  41,  42,  43,  44,  45,  46,  47,  48,  49,  50,  51,\n",
       "        52,  53,  54,  55,  56,  57,  58,  59,  60,  61,  62,  63,  64,\n",
       "        65,  66,  67,  68,  69,  70,  71,  72,  73,  74,  75,  76,  77,\n",
       "        78,  79,  80,  81,  82,  83,  84,  85,  86,  87,  88,  89,  90,\n",
       "        91,  92,  93,  94,  95,  96,  97,  98,  99, 100, 101, 102, 103,\n",
       "       104, 105, 106, 107, 108, 109, 110, 111, 112, 113, 114, 115, 116,\n",
       "       117, 118, 119, 120, 121, 122, 123, 124, 125, 126, 127, 128, 129,\n",
       "       130, 131, 132, 133, 134, 135, 136, 137, 138, 139, 140, 141, 142,\n",
       "       143, 144, 145, 146, 147, 148, 149, 150, 151, 152, 153, 154, 155,\n",
       "       156, 157, 158, 159, 160, 161, 162, 163, 164, 165, 166, 167, 168,\n",
       "       169, 170, 171, 172, 173, 174, 175, 176, 177, 178, 179, 180, 181,\n",
       "       182, 183, 184, 185, 186, 187, 188, 189, 190, 191, 192, 193, 194,\n",
       "       195, 196, 197, 198, 199, 200, 201, 202, 203, 204, 205, 206, 207,\n",
       "       208, 209, 210, 211, 212, 213, 214, 215, 216, 217, 218, 219, 220,\n",
       "       221, 222, 223, 224, 225, 226, 227, 228, 229, 230, 231, 232, 233,\n",
       "       234, 235, 236, 237, 238, 239, 240, 241, 242, 243, 244, 245, 246,\n",
       "       247, 248, 249, 250, 251, 252, 253, 254, 255, 256, 257, 258, 259,\n",
       "       260, 261, 262, 263, 264, 265, 266, 267, 268, 269, 270, 271, 272,\n",
       "       273, 274, 275, 276, 277, 278, 279, 280, 281, 282, 283, 284, 285,\n",
       "       286, 287, 288, 289, 290, 291, 292, 293, 294, 295, 296, 297, 298,\n",
       "       299, 300, 301, 302, 303, 304, 305, 306, 307, 308, 309, 310, 311,\n",
       "       312, 313, 314, 315, 316, 317, 318, 319, 320, 321, 322, 323, 324,\n",
       "       325, 326, 327, 328, 329, 330, 331, 332, 333, 334, 335, 336, 337,\n",
       "       338, 339, 340, 341, 342, 343, 344, 345, 346, 347, 348, 349, 350,\n",
       "       351, 352, 353, 354, 355, 356, 357, 358, 359, 360, 361, 362, 363,\n",
       "       364, 365, 366, 367, 368, 369, 370, 371, 372, 373, 374, 375, 376,\n",
       "       377, 378, 379, 380, 381, 382, 383, 384, 385, 386, 387, 388, 389,\n",
       "       390, 391, 392, 393, 394, 395, 396, 397, 398, 399, 400, 401, 402,\n",
       "       403, 404, 405, 406, 407, 408, 409, 410, 411, 412, 413, 414, 415,\n",
       "       416, 417, 418, 419, 420, 421, 422, 423, 424, 425, 426, 427, 428,\n",
       "       429, 430, 431, 432, 433, 434, 435, 436, 437, 438, 439, 440, 441,\n",
       "       442, 443, 444, 445, 446, 447, 448, 449, 450, 451, 452, 453, 454,\n",
       "       455, 456, 457, 458, 459, 460, 461, 462, 463, 464, 465, 466, 467,\n",
       "       468, 469, 470, 471, 472, 473, 474, 475, 476, 477, 478, 479, 480,\n",
       "       481, 482, 483, 484, 485, 486, 487, 488, 489, 490, 491, 492, 493,\n",
       "       494, 495, 496, 497, 498, 499, 500, 501, 502, 503, 504, 505, 506,\n",
       "       507, 508, 509, 510, 511, 512, 513, 514, 515, 516, 517, 518, 519,\n",
       "       520, 521, 522, 523, 524, 525, 526, 527, 528, 529, 530, 531, 532,\n",
       "       533, 534, 535, 536, 537, 538, 539, 540, 541, 542, 543, 544, 545,\n",
       "       546, 547, 548, 549, 550, 551, 552, 553, 554, 555, 556, 557, 558,\n",
       "       559, 560, 561, 562, 563, 564, 565, 566, 567, 568, 569, 570, 571,\n",
       "       572, 573, 574, 575, 576, 577, 578, 579, 580, 581, 582, 583, 584,\n",
       "       585, 586, 587, 588, 589, 590, 591, 592, 593, 594, 595, 596, 597,\n",
       "       598, 599, 600, 601, 602, 603, 604, 605, 606, 607, 608, 609, 610,\n",
       "       611, 612, 613, 614, 615, 616, 617, 618, 619, 620, 621, 622, 623,\n",
       "       624, 625, 626, 627, 628, 629, 630, 631, 632, 633, 634, 635, 636,\n",
       "       637, 638, 639, 640, 641, 642, 643, 644, 645], dtype=int64)"
      ]
     },
     "execution_count": 332,
     "metadata": {},
     "output_type": "execute_result"
    }
   ],
   "source": [
    "crop_data[\"District_Name\"].unique()"
   ]
  },
  {
   "cell_type": "markdown",
   "id": "e73c3ee1-aea1-4cfc-8b63-bbbaf3ee9cdf",
   "metadata": {},
   "source": [
    "We can drop this column for predictive analysis as we take the state is enough and this is also too much unique values generated "
   ]
  },
  {
   "cell_type": "code",
   "execution_count": 335,
   "id": "673769ef-012d-4adb-ba39-febe630d77a9",
   "metadata": {},
   "outputs": [],
   "source": [
    "starting_value = 0\n",
    "for x in crop_data[\"Season\"].unique():\n",
    "    crop_data = crop_data.replace(to_replace=x,value=starting_value)\n",
    "    starting_value = starting_value+1"
   ]
  },
  {
   "cell_type": "code",
   "execution_count": 337,
   "id": "b8b8c210-3136-493a-b336-844f0a32dbe9",
   "metadata": {},
   "outputs": [
    {
     "data": {
      "text/plain": [
       "array([0, 1, 2, 3, 4, 5], dtype=int64)"
      ]
     },
     "execution_count": 337,
     "metadata": {},
     "output_type": "execute_result"
    }
   ],
   "source": [
    "crop_data[\"Season\"].unique()"
   ]
  },
  {
   "cell_type": "code",
   "execution_count": 339,
   "id": "c6612a2d-a144-4ce1-8cb2-f22ab838404d",
   "metadata": {},
   "outputs": [],
   "source": [
    "starting_value = 0\n",
    "for x in crop_data[\"Crop\"].unique():\n",
    "    crop_data = crop_data.replace(to_replace=x,value=starting_value)\n",
    "    starting_value = starting_value+1"
   ]
  },
  {
   "cell_type": "code",
   "execution_count": 341,
   "id": "4859375f-17aa-4d02-bc0e-49d895de8dd6",
   "metadata": {},
   "outputs": [
    {
     "data": {
      "text/plain": [
       "array([  0,   1,   2,   3,   4,   5,   6,   7,   8,   9,  10,  11,  12,\n",
       "        13,  14,  15,  16,  17,  18,  19,  20,  21,  22,  23,  24,  25,\n",
       "        26,  27,  28,  29,  30,  31,  32,  33,  34,  35,  36,  37,  38,\n",
       "        39,  40,  41,  42,  43,  44,  45,  46,  47,  48,  49,  50,  51,\n",
       "        52,  53,  54,  55,  56,  57,  58,  59,  60,  61,  62,  63,  64,\n",
       "        65,  66,  67,  68,  69,  70,  71,  72,  73,  74,  75,  76,  77,\n",
       "        78,  79,  80,  81,  82,  83,  84,  85,  86,  87,  88,  89,  90,\n",
       "        91,  92,  93,  94,  95,  96,  97,  98,  99, 100, 101, 102, 103,\n",
       "       104, 105, 106, 107, 108, 109, 110, 111, 112, 113, 114, 115, 116,\n",
       "       117, 118, 119, 120, 121, 122, 123], dtype=int64)"
      ]
     },
     "execution_count": 341,
     "metadata": {},
     "output_type": "execute_result"
    }
   ],
   "source": [
    "crop_data[\"Crop\"].unique()"
   ]
  },
  {
   "cell_type": "code",
   "execution_count": 343,
   "id": "d7959387-50ea-4930-b779-62d6eef9a688",
   "metadata": {},
   "outputs": [],
   "source": [
    "crop_data = crop_data.drop(columns = [\"District_Name\"],axis=1)"
   ]
  },
  {
   "cell_type": "code",
   "execution_count": 347,
   "id": "bcc4e2c5-7bdd-4037-aaf6-58d8b71e5cbe",
   "metadata": {},
   "outputs": [],
   "source": [
    "crop_data.to_excel(\"Crop_Data_Numeric.xlsx\",sheet_name = \"result\")"
   ]
  },
  {
   "cell_type": "code",
   "execution_count": null,
   "id": "c2529fee-48ff-4bdf-b722-1ee2fb42e386",
   "metadata": {},
   "outputs": [],
   "source": []
  }
 ],
 "metadata": {
  "kernelspec": {
   "display_name": "Python 3 (ipykernel)",
   "language": "python",
   "name": "python3"
  },
  "language_info": {
   "codemirror_mode": {
    "name": "ipython",
    "version": 3
   },
   "file_extension": ".py",
   "mimetype": "text/x-python",
   "name": "python",
   "nbconvert_exporter": "python",
   "pygments_lexer": "ipython3",
   "version": "3.11.7"
  }
 },
 "nbformat": 4,
 "nbformat_minor": 5
}
